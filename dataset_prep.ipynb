{
  "nbformat": 4,
  "nbformat_minor": 0,
  "metadata": {
    "colab": {
      "provenance": [],
      "authorship_tag": "ABX9TyNiJWVYyBKAJQJDPGfWkQqU",
      "include_colab_link": true
    },
    "kernelspec": {
      "name": "python3",
      "display_name": "Python 3"
    },
    "language_info": {
      "name": "python"
    },
    "widgets": {
      "application/vnd.jupyter.widget-state+json": {
        "1a1cae96aa2f42868eb72b618b36282e": {
          "model_module": "@jupyter-widgets/controls",
          "model_name": "VBoxModel",
          "model_module_version": "1.5.0",
          "state": {
            "_dom_classes": [],
            "_model_module": "@jupyter-widgets/controls",
            "_model_module_version": "1.5.0",
            "_model_name": "VBoxModel",
            "_view_count": null,
            "_view_module": "@jupyter-widgets/controls",
            "_view_module_version": "1.5.0",
            "_view_name": "VBoxView",
            "box_style": "",
            "children": [
              "IPY_MODEL_90fe8c7a447b4ea08acc2ca882dd206a",
              "IPY_MODEL_c3056b44f1c44e35b33d1f4c6f1ec22f",
              "IPY_MODEL_faa4ed58d9a046c09504747aedddc3d7",
              "IPY_MODEL_53e18d8be907452086168683aea3f29f"
            ],
            "layout": "IPY_MODEL_ee5016ea1f2f439181d2d8429a77bb67"
          }
        },
        "2d1ff77f7bd44db79fe5b1678df3ab96": {
          "model_module": "@jupyter-widgets/controls",
          "model_name": "HTMLModel",
          "model_module_version": "1.5.0",
          "state": {
            "_dom_classes": [],
            "_model_module": "@jupyter-widgets/controls",
            "_model_module_version": "1.5.0",
            "_model_name": "HTMLModel",
            "_view_count": null,
            "_view_module": "@jupyter-widgets/controls",
            "_view_module_version": "1.5.0",
            "_view_name": "HTMLView",
            "description": "",
            "description_tooltip": null,
            "layout": "IPY_MODEL_5d7021f9c9594faeb58039bda0cc6567",
            "placeholder": "​",
            "style": "IPY_MODEL_c2a86071a2a2497f805a02e1d2ddaec1",
            "value": "<center> <img\nsrc=https://huggingface.co/front/assets/huggingface_logo-noborder.svg\nalt='Hugging Face'> <br> Copy a token from <a\nhref=\"https://huggingface.co/settings/tokens\" target=\"_blank\">your Hugging Face\ntokens page</a> and paste it below. <br> Immediately click login after copying\nyour token or it might be stored in plain text in this notebook file. </center>"
          }
        },
        "e7b5e625f7cb473cb4fa3bd46ef8bc39": {
          "model_module": "@jupyter-widgets/controls",
          "model_name": "PasswordModel",
          "model_module_version": "1.5.0",
          "state": {
            "_dom_classes": [],
            "_model_module": "@jupyter-widgets/controls",
            "_model_module_version": "1.5.0",
            "_model_name": "PasswordModel",
            "_view_count": null,
            "_view_module": "@jupyter-widgets/controls",
            "_view_module_version": "1.5.0",
            "_view_name": "PasswordView",
            "continuous_update": true,
            "description": "Token:",
            "description_tooltip": null,
            "disabled": false,
            "layout": "IPY_MODEL_81ea52c5a83042fea972df9dbde0c92c",
            "placeholder": "​",
            "style": "IPY_MODEL_e4bbc6bf0658417eadbc7a34eb3ac627",
            "value": ""
          }
        },
        "3fd27f5d8b5c47d79def255d275e9793": {
          "model_module": "@jupyter-widgets/controls",
          "model_name": "CheckboxModel",
          "model_module_version": "1.5.0",
          "state": {
            "_dom_classes": [],
            "_model_module": "@jupyter-widgets/controls",
            "_model_module_version": "1.5.0",
            "_model_name": "CheckboxModel",
            "_view_count": null,
            "_view_module": "@jupyter-widgets/controls",
            "_view_module_version": "1.5.0",
            "_view_name": "CheckboxView",
            "description": "Add token as git credential?",
            "description_tooltip": null,
            "disabled": false,
            "indent": true,
            "layout": "IPY_MODEL_37c9b67e5ce743a2bc4f0d798af36fde",
            "style": "IPY_MODEL_e50f7691a9814d129ae1aa868cff65cb",
            "value": true
          }
        },
        "88ebed0b86434a5fa407a0a6522ca2f5": {
          "model_module": "@jupyter-widgets/controls",
          "model_name": "ButtonModel",
          "model_module_version": "1.5.0",
          "state": {
            "_dom_classes": [],
            "_model_module": "@jupyter-widgets/controls",
            "_model_module_version": "1.5.0",
            "_model_name": "ButtonModel",
            "_view_count": null,
            "_view_module": "@jupyter-widgets/controls",
            "_view_module_version": "1.5.0",
            "_view_name": "ButtonView",
            "button_style": "",
            "description": "Login",
            "disabled": false,
            "icon": "",
            "layout": "IPY_MODEL_9c765b7e7fb94bc0bd9f7d640d1d1eff",
            "style": "IPY_MODEL_ff5bb23a35814800bdb68a9aa43135d4",
            "tooltip": ""
          }
        },
        "b24294f9e44948febbfef3a9bddcabeb": {
          "model_module": "@jupyter-widgets/controls",
          "model_name": "HTMLModel",
          "model_module_version": "1.5.0",
          "state": {
            "_dom_classes": [],
            "_model_module": "@jupyter-widgets/controls",
            "_model_module_version": "1.5.0",
            "_model_name": "HTMLModel",
            "_view_count": null,
            "_view_module": "@jupyter-widgets/controls",
            "_view_module_version": "1.5.0",
            "_view_name": "HTMLView",
            "description": "",
            "description_tooltip": null,
            "layout": "IPY_MODEL_bcff1e12222b484caaeaa01372b0f1d0",
            "placeholder": "​",
            "style": "IPY_MODEL_2dcb54917f3d4210be92a015173d2189",
            "value": "\n<b>Pro Tip:</b> If you don't already have one, you can create a dedicated\n'notebooks' token with 'write' access, that you can then easily reuse for all\nnotebooks. </center>"
          }
        },
        "ee5016ea1f2f439181d2d8429a77bb67": {
          "model_module": "@jupyter-widgets/base",
          "model_name": "LayoutModel",
          "model_module_version": "1.2.0",
          "state": {
            "_model_module": "@jupyter-widgets/base",
            "_model_module_version": "1.2.0",
            "_model_name": "LayoutModel",
            "_view_count": null,
            "_view_module": "@jupyter-widgets/base",
            "_view_module_version": "1.2.0",
            "_view_name": "LayoutView",
            "align_content": null,
            "align_items": "center",
            "align_self": null,
            "border": null,
            "bottom": null,
            "display": "flex",
            "flex": null,
            "flex_flow": "column",
            "grid_area": null,
            "grid_auto_columns": null,
            "grid_auto_flow": null,
            "grid_auto_rows": null,
            "grid_column": null,
            "grid_gap": null,
            "grid_row": null,
            "grid_template_areas": null,
            "grid_template_columns": null,
            "grid_template_rows": null,
            "height": null,
            "justify_content": null,
            "justify_items": null,
            "left": null,
            "margin": null,
            "max_height": null,
            "max_width": null,
            "min_height": null,
            "min_width": null,
            "object_fit": null,
            "object_position": null,
            "order": null,
            "overflow": null,
            "overflow_x": null,
            "overflow_y": null,
            "padding": null,
            "right": null,
            "top": null,
            "visibility": null,
            "width": "50%"
          }
        },
        "5d7021f9c9594faeb58039bda0cc6567": {
          "model_module": "@jupyter-widgets/base",
          "model_name": "LayoutModel",
          "model_module_version": "1.2.0",
          "state": {
            "_model_module": "@jupyter-widgets/base",
            "_model_module_version": "1.2.0",
            "_model_name": "LayoutModel",
            "_view_count": null,
            "_view_module": "@jupyter-widgets/base",
            "_view_module_version": "1.2.0",
            "_view_name": "LayoutView",
            "align_content": null,
            "align_items": null,
            "align_self": null,
            "border": null,
            "bottom": null,
            "display": null,
            "flex": null,
            "flex_flow": null,
            "grid_area": null,
            "grid_auto_columns": null,
            "grid_auto_flow": null,
            "grid_auto_rows": null,
            "grid_column": null,
            "grid_gap": null,
            "grid_row": null,
            "grid_template_areas": null,
            "grid_template_columns": null,
            "grid_template_rows": null,
            "height": null,
            "justify_content": null,
            "justify_items": null,
            "left": null,
            "margin": null,
            "max_height": null,
            "max_width": null,
            "min_height": null,
            "min_width": null,
            "object_fit": null,
            "object_position": null,
            "order": null,
            "overflow": null,
            "overflow_x": null,
            "overflow_y": null,
            "padding": null,
            "right": null,
            "top": null,
            "visibility": null,
            "width": null
          }
        },
        "c2a86071a2a2497f805a02e1d2ddaec1": {
          "model_module": "@jupyter-widgets/controls",
          "model_name": "DescriptionStyleModel",
          "model_module_version": "1.5.0",
          "state": {
            "_model_module": "@jupyter-widgets/controls",
            "_model_module_version": "1.5.0",
            "_model_name": "DescriptionStyleModel",
            "_view_count": null,
            "_view_module": "@jupyter-widgets/base",
            "_view_module_version": "1.2.0",
            "_view_name": "StyleView",
            "description_width": ""
          }
        },
        "81ea52c5a83042fea972df9dbde0c92c": {
          "model_module": "@jupyter-widgets/base",
          "model_name": "LayoutModel",
          "model_module_version": "1.2.0",
          "state": {
            "_model_module": "@jupyter-widgets/base",
            "_model_module_version": "1.2.0",
            "_model_name": "LayoutModel",
            "_view_count": null,
            "_view_module": "@jupyter-widgets/base",
            "_view_module_version": "1.2.0",
            "_view_name": "LayoutView",
            "align_content": null,
            "align_items": null,
            "align_self": null,
            "border": null,
            "bottom": null,
            "display": null,
            "flex": null,
            "flex_flow": null,
            "grid_area": null,
            "grid_auto_columns": null,
            "grid_auto_flow": null,
            "grid_auto_rows": null,
            "grid_column": null,
            "grid_gap": null,
            "grid_row": null,
            "grid_template_areas": null,
            "grid_template_columns": null,
            "grid_template_rows": null,
            "height": null,
            "justify_content": null,
            "justify_items": null,
            "left": null,
            "margin": null,
            "max_height": null,
            "max_width": null,
            "min_height": null,
            "min_width": null,
            "object_fit": null,
            "object_position": null,
            "order": null,
            "overflow": null,
            "overflow_x": null,
            "overflow_y": null,
            "padding": null,
            "right": null,
            "top": null,
            "visibility": null,
            "width": null
          }
        },
        "e4bbc6bf0658417eadbc7a34eb3ac627": {
          "model_module": "@jupyter-widgets/controls",
          "model_name": "DescriptionStyleModel",
          "model_module_version": "1.5.0",
          "state": {
            "_model_module": "@jupyter-widgets/controls",
            "_model_module_version": "1.5.0",
            "_model_name": "DescriptionStyleModel",
            "_view_count": null,
            "_view_module": "@jupyter-widgets/base",
            "_view_module_version": "1.2.0",
            "_view_name": "StyleView",
            "description_width": ""
          }
        },
        "37c9b67e5ce743a2bc4f0d798af36fde": {
          "model_module": "@jupyter-widgets/base",
          "model_name": "LayoutModel",
          "model_module_version": "1.2.0",
          "state": {
            "_model_module": "@jupyter-widgets/base",
            "_model_module_version": "1.2.0",
            "_model_name": "LayoutModel",
            "_view_count": null,
            "_view_module": "@jupyter-widgets/base",
            "_view_module_version": "1.2.0",
            "_view_name": "LayoutView",
            "align_content": null,
            "align_items": null,
            "align_self": null,
            "border": null,
            "bottom": null,
            "display": null,
            "flex": null,
            "flex_flow": null,
            "grid_area": null,
            "grid_auto_columns": null,
            "grid_auto_flow": null,
            "grid_auto_rows": null,
            "grid_column": null,
            "grid_gap": null,
            "grid_row": null,
            "grid_template_areas": null,
            "grid_template_columns": null,
            "grid_template_rows": null,
            "height": null,
            "justify_content": null,
            "justify_items": null,
            "left": null,
            "margin": null,
            "max_height": null,
            "max_width": null,
            "min_height": null,
            "min_width": null,
            "object_fit": null,
            "object_position": null,
            "order": null,
            "overflow": null,
            "overflow_x": null,
            "overflow_y": null,
            "padding": null,
            "right": null,
            "top": null,
            "visibility": null,
            "width": null
          }
        },
        "e50f7691a9814d129ae1aa868cff65cb": {
          "model_module": "@jupyter-widgets/controls",
          "model_name": "DescriptionStyleModel",
          "model_module_version": "1.5.0",
          "state": {
            "_model_module": "@jupyter-widgets/controls",
            "_model_module_version": "1.5.0",
            "_model_name": "DescriptionStyleModel",
            "_view_count": null,
            "_view_module": "@jupyter-widgets/base",
            "_view_module_version": "1.2.0",
            "_view_name": "StyleView",
            "description_width": ""
          }
        },
        "9c765b7e7fb94bc0bd9f7d640d1d1eff": {
          "model_module": "@jupyter-widgets/base",
          "model_name": "LayoutModel",
          "model_module_version": "1.2.0",
          "state": {
            "_model_module": "@jupyter-widgets/base",
            "_model_module_version": "1.2.0",
            "_model_name": "LayoutModel",
            "_view_count": null,
            "_view_module": "@jupyter-widgets/base",
            "_view_module_version": "1.2.0",
            "_view_name": "LayoutView",
            "align_content": null,
            "align_items": null,
            "align_self": null,
            "border": null,
            "bottom": null,
            "display": null,
            "flex": null,
            "flex_flow": null,
            "grid_area": null,
            "grid_auto_columns": null,
            "grid_auto_flow": null,
            "grid_auto_rows": null,
            "grid_column": null,
            "grid_gap": null,
            "grid_row": null,
            "grid_template_areas": null,
            "grid_template_columns": null,
            "grid_template_rows": null,
            "height": null,
            "justify_content": null,
            "justify_items": null,
            "left": null,
            "margin": null,
            "max_height": null,
            "max_width": null,
            "min_height": null,
            "min_width": null,
            "object_fit": null,
            "object_position": null,
            "order": null,
            "overflow": null,
            "overflow_x": null,
            "overflow_y": null,
            "padding": null,
            "right": null,
            "top": null,
            "visibility": null,
            "width": null
          }
        },
        "ff5bb23a35814800bdb68a9aa43135d4": {
          "model_module": "@jupyter-widgets/controls",
          "model_name": "ButtonStyleModel",
          "model_module_version": "1.5.0",
          "state": {
            "_model_module": "@jupyter-widgets/controls",
            "_model_module_version": "1.5.0",
            "_model_name": "ButtonStyleModel",
            "_view_count": null,
            "_view_module": "@jupyter-widgets/base",
            "_view_module_version": "1.2.0",
            "_view_name": "StyleView",
            "button_color": null,
            "font_weight": ""
          }
        },
        "bcff1e12222b484caaeaa01372b0f1d0": {
          "model_module": "@jupyter-widgets/base",
          "model_name": "LayoutModel",
          "model_module_version": "1.2.0",
          "state": {
            "_model_module": "@jupyter-widgets/base",
            "_model_module_version": "1.2.0",
            "_model_name": "LayoutModel",
            "_view_count": null,
            "_view_module": "@jupyter-widgets/base",
            "_view_module_version": "1.2.0",
            "_view_name": "LayoutView",
            "align_content": null,
            "align_items": null,
            "align_self": null,
            "border": null,
            "bottom": null,
            "display": null,
            "flex": null,
            "flex_flow": null,
            "grid_area": null,
            "grid_auto_columns": null,
            "grid_auto_flow": null,
            "grid_auto_rows": null,
            "grid_column": null,
            "grid_gap": null,
            "grid_row": null,
            "grid_template_areas": null,
            "grid_template_columns": null,
            "grid_template_rows": null,
            "height": null,
            "justify_content": null,
            "justify_items": null,
            "left": null,
            "margin": null,
            "max_height": null,
            "max_width": null,
            "min_height": null,
            "min_width": null,
            "object_fit": null,
            "object_position": null,
            "order": null,
            "overflow": null,
            "overflow_x": null,
            "overflow_y": null,
            "padding": null,
            "right": null,
            "top": null,
            "visibility": null,
            "width": null
          }
        },
        "2dcb54917f3d4210be92a015173d2189": {
          "model_module": "@jupyter-widgets/controls",
          "model_name": "DescriptionStyleModel",
          "model_module_version": "1.5.0",
          "state": {
            "_model_module": "@jupyter-widgets/controls",
            "_model_module_version": "1.5.0",
            "_model_name": "DescriptionStyleModel",
            "_view_count": null,
            "_view_module": "@jupyter-widgets/base",
            "_view_module_version": "1.2.0",
            "_view_name": "StyleView",
            "description_width": ""
          }
        },
        "31898d8311d54f7e9ba36593968cde53": {
          "model_module": "@jupyter-widgets/controls",
          "model_name": "LabelModel",
          "model_module_version": "1.5.0",
          "state": {
            "_dom_classes": [],
            "_model_module": "@jupyter-widgets/controls",
            "_model_module_version": "1.5.0",
            "_model_name": "LabelModel",
            "_view_count": null,
            "_view_module": "@jupyter-widgets/controls",
            "_view_module_version": "1.5.0",
            "_view_name": "LabelView",
            "description": "",
            "description_tooltip": null,
            "layout": "IPY_MODEL_3238ea420a1147049fb1fbd688ce0998",
            "placeholder": "​",
            "style": "IPY_MODEL_f5676d5856af4982a1193e39353461ed",
            "value": "Connecting..."
          }
        },
        "3238ea420a1147049fb1fbd688ce0998": {
          "model_module": "@jupyter-widgets/base",
          "model_name": "LayoutModel",
          "model_module_version": "1.2.0",
          "state": {
            "_model_module": "@jupyter-widgets/base",
            "_model_module_version": "1.2.0",
            "_model_name": "LayoutModel",
            "_view_count": null,
            "_view_module": "@jupyter-widgets/base",
            "_view_module_version": "1.2.0",
            "_view_name": "LayoutView",
            "align_content": null,
            "align_items": null,
            "align_self": null,
            "border": null,
            "bottom": null,
            "display": null,
            "flex": null,
            "flex_flow": null,
            "grid_area": null,
            "grid_auto_columns": null,
            "grid_auto_flow": null,
            "grid_auto_rows": null,
            "grid_column": null,
            "grid_gap": null,
            "grid_row": null,
            "grid_template_areas": null,
            "grid_template_columns": null,
            "grid_template_rows": null,
            "height": null,
            "justify_content": null,
            "justify_items": null,
            "left": null,
            "margin": null,
            "max_height": null,
            "max_width": null,
            "min_height": null,
            "min_width": null,
            "object_fit": null,
            "object_position": null,
            "order": null,
            "overflow": null,
            "overflow_x": null,
            "overflow_y": null,
            "padding": null,
            "right": null,
            "top": null,
            "visibility": null,
            "width": null
          }
        },
        "f5676d5856af4982a1193e39353461ed": {
          "model_module": "@jupyter-widgets/controls",
          "model_name": "DescriptionStyleModel",
          "model_module_version": "1.5.0",
          "state": {
            "_model_module": "@jupyter-widgets/controls",
            "_model_module_version": "1.5.0",
            "_model_name": "DescriptionStyleModel",
            "_view_count": null,
            "_view_module": "@jupyter-widgets/base",
            "_view_module_version": "1.2.0",
            "_view_name": "StyleView",
            "description_width": ""
          }
        },
        "90fe8c7a447b4ea08acc2ca882dd206a": {
          "model_module": "@jupyter-widgets/controls",
          "model_name": "LabelModel",
          "model_module_version": "1.5.0",
          "state": {
            "_dom_classes": [],
            "_model_module": "@jupyter-widgets/controls",
            "_model_module_version": "1.5.0",
            "_model_name": "LabelModel",
            "_view_count": null,
            "_view_module": "@jupyter-widgets/controls",
            "_view_module_version": "1.5.0",
            "_view_name": "LabelView",
            "description": "",
            "description_tooltip": null,
            "layout": "IPY_MODEL_b317205744644d1e960656fc627f500a",
            "placeholder": "​",
            "style": "IPY_MODEL_e288c5a4dc304bb5b04e19bf52389f8f",
            "value": "Token is valid (permission: write)."
          }
        },
        "c3056b44f1c44e35b33d1f4c6f1ec22f": {
          "model_module": "@jupyter-widgets/controls",
          "model_name": "LabelModel",
          "model_module_version": "1.5.0",
          "state": {
            "_dom_classes": [],
            "_model_module": "@jupyter-widgets/controls",
            "_model_module_version": "1.5.0",
            "_model_name": "LabelModel",
            "_view_count": null,
            "_view_module": "@jupyter-widgets/controls",
            "_view_module_version": "1.5.0",
            "_view_name": "LabelView",
            "description": "",
            "description_tooltip": null,
            "layout": "IPY_MODEL_e2e47e3190b64a438b8f4b74cddcbea2",
            "placeholder": "​",
            "style": "IPY_MODEL_2f18d260541749c392b3460c379052ba",
            "value": "Your token has been saved in your configured git credential helpers (store)."
          }
        },
        "faa4ed58d9a046c09504747aedddc3d7": {
          "model_module": "@jupyter-widgets/controls",
          "model_name": "LabelModel",
          "model_module_version": "1.5.0",
          "state": {
            "_dom_classes": [],
            "_model_module": "@jupyter-widgets/controls",
            "_model_module_version": "1.5.0",
            "_model_name": "LabelModel",
            "_view_count": null,
            "_view_module": "@jupyter-widgets/controls",
            "_view_module_version": "1.5.0",
            "_view_name": "LabelView",
            "description": "",
            "description_tooltip": null,
            "layout": "IPY_MODEL_084b718cc0154a06b1cf4be6b36ff089",
            "placeholder": "​",
            "style": "IPY_MODEL_d5558348b9e645e2bfff71c072089db6",
            "value": "Your token has been saved to /root/.cache/huggingface/token"
          }
        },
        "53e18d8be907452086168683aea3f29f": {
          "model_module": "@jupyter-widgets/controls",
          "model_name": "LabelModel",
          "model_module_version": "1.5.0",
          "state": {
            "_dom_classes": [],
            "_model_module": "@jupyter-widgets/controls",
            "_model_module_version": "1.5.0",
            "_model_name": "LabelModel",
            "_view_count": null,
            "_view_module": "@jupyter-widgets/controls",
            "_view_module_version": "1.5.0",
            "_view_name": "LabelView",
            "description": "",
            "description_tooltip": null,
            "layout": "IPY_MODEL_815d7cd81a2e40fab07bf66b8a3a423a",
            "placeholder": "​",
            "style": "IPY_MODEL_a95d8dd26c9d4061adc8f373a305531d",
            "value": "Login successful"
          }
        },
        "b317205744644d1e960656fc627f500a": {
          "model_module": "@jupyter-widgets/base",
          "model_name": "LayoutModel",
          "model_module_version": "1.2.0",
          "state": {
            "_model_module": "@jupyter-widgets/base",
            "_model_module_version": "1.2.0",
            "_model_name": "LayoutModel",
            "_view_count": null,
            "_view_module": "@jupyter-widgets/base",
            "_view_module_version": "1.2.0",
            "_view_name": "LayoutView",
            "align_content": null,
            "align_items": null,
            "align_self": null,
            "border": null,
            "bottom": null,
            "display": null,
            "flex": null,
            "flex_flow": null,
            "grid_area": null,
            "grid_auto_columns": null,
            "grid_auto_flow": null,
            "grid_auto_rows": null,
            "grid_column": null,
            "grid_gap": null,
            "grid_row": null,
            "grid_template_areas": null,
            "grid_template_columns": null,
            "grid_template_rows": null,
            "height": null,
            "justify_content": null,
            "justify_items": null,
            "left": null,
            "margin": null,
            "max_height": null,
            "max_width": null,
            "min_height": null,
            "min_width": null,
            "object_fit": null,
            "object_position": null,
            "order": null,
            "overflow": null,
            "overflow_x": null,
            "overflow_y": null,
            "padding": null,
            "right": null,
            "top": null,
            "visibility": null,
            "width": null
          }
        },
        "e288c5a4dc304bb5b04e19bf52389f8f": {
          "model_module": "@jupyter-widgets/controls",
          "model_name": "DescriptionStyleModel",
          "model_module_version": "1.5.0",
          "state": {
            "_model_module": "@jupyter-widgets/controls",
            "_model_module_version": "1.5.0",
            "_model_name": "DescriptionStyleModel",
            "_view_count": null,
            "_view_module": "@jupyter-widgets/base",
            "_view_module_version": "1.2.0",
            "_view_name": "StyleView",
            "description_width": ""
          }
        },
        "e2e47e3190b64a438b8f4b74cddcbea2": {
          "model_module": "@jupyter-widgets/base",
          "model_name": "LayoutModel",
          "model_module_version": "1.2.0",
          "state": {
            "_model_module": "@jupyter-widgets/base",
            "_model_module_version": "1.2.0",
            "_model_name": "LayoutModel",
            "_view_count": null,
            "_view_module": "@jupyter-widgets/base",
            "_view_module_version": "1.2.0",
            "_view_name": "LayoutView",
            "align_content": null,
            "align_items": null,
            "align_self": null,
            "border": null,
            "bottom": null,
            "display": null,
            "flex": null,
            "flex_flow": null,
            "grid_area": null,
            "grid_auto_columns": null,
            "grid_auto_flow": null,
            "grid_auto_rows": null,
            "grid_column": null,
            "grid_gap": null,
            "grid_row": null,
            "grid_template_areas": null,
            "grid_template_columns": null,
            "grid_template_rows": null,
            "height": null,
            "justify_content": null,
            "justify_items": null,
            "left": null,
            "margin": null,
            "max_height": null,
            "max_width": null,
            "min_height": null,
            "min_width": null,
            "object_fit": null,
            "object_position": null,
            "order": null,
            "overflow": null,
            "overflow_x": null,
            "overflow_y": null,
            "padding": null,
            "right": null,
            "top": null,
            "visibility": null,
            "width": null
          }
        },
        "2f18d260541749c392b3460c379052ba": {
          "model_module": "@jupyter-widgets/controls",
          "model_name": "DescriptionStyleModel",
          "model_module_version": "1.5.0",
          "state": {
            "_model_module": "@jupyter-widgets/controls",
            "_model_module_version": "1.5.0",
            "_model_name": "DescriptionStyleModel",
            "_view_count": null,
            "_view_module": "@jupyter-widgets/base",
            "_view_module_version": "1.2.0",
            "_view_name": "StyleView",
            "description_width": ""
          }
        },
        "084b718cc0154a06b1cf4be6b36ff089": {
          "model_module": "@jupyter-widgets/base",
          "model_name": "LayoutModel",
          "model_module_version": "1.2.0",
          "state": {
            "_model_module": "@jupyter-widgets/base",
            "_model_module_version": "1.2.0",
            "_model_name": "LayoutModel",
            "_view_count": null,
            "_view_module": "@jupyter-widgets/base",
            "_view_module_version": "1.2.0",
            "_view_name": "LayoutView",
            "align_content": null,
            "align_items": null,
            "align_self": null,
            "border": null,
            "bottom": null,
            "display": null,
            "flex": null,
            "flex_flow": null,
            "grid_area": null,
            "grid_auto_columns": null,
            "grid_auto_flow": null,
            "grid_auto_rows": null,
            "grid_column": null,
            "grid_gap": null,
            "grid_row": null,
            "grid_template_areas": null,
            "grid_template_columns": null,
            "grid_template_rows": null,
            "height": null,
            "justify_content": null,
            "justify_items": null,
            "left": null,
            "margin": null,
            "max_height": null,
            "max_width": null,
            "min_height": null,
            "min_width": null,
            "object_fit": null,
            "object_position": null,
            "order": null,
            "overflow": null,
            "overflow_x": null,
            "overflow_y": null,
            "padding": null,
            "right": null,
            "top": null,
            "visibility": null,
            "width": null
          }
        },
        "d5558348b9e645e2bfff71c072089db6": {
          "model_module": "@jupyter-widgets/controls",
          "model_name": "DescriptionStyleModel",
          "model_module_version": "1.5.0",
          "state": {
            "_model_module": "@jupyter-widgets/controls",
            "_model_module_version": "1.5.0",
            "_model_name": "DescriptionStyleModel",
            "_view_count": null,
            "_view_module": "@jupyter-widgets/base",
            "_view_module_version": "1.2.0",
            "_view_name": "StyleView",
            "description_width": ""
          }
        },
        "815d7cd81a2e40fab07bf66b8a3a423a": {
          "model_module": "@jupyter-widgets/base",
          "model_name": "LayoutModel",
          "model_module_version": "1.2.0",
          "state": {
            "_model_module": "@jupyter-widgets/base",
            "_model_module_version": "1.2.0",
            "_model_name": "LayoutModel",
            "_view_count": null,
            "_view_module": "@jupyter-widgets/base",
            "_view_module_version": "1.2.0",
            "_view_name": "LayoutView",
            "align_content": null,
            "align_items": null,
            "align_self": null,
            "border": null,
            "bottom": null,
            "display": null,
            "flex": null,
            "flex_flow": null,
            "grid_area": null,
            "grid_auto_columns": null,
            "grid_auto_flow": null,
            "grid_auto_rows": null,
            "grid_column": null,
            "grid_gap": null,
            "grid_row": null,
            "grid_template_areas": null,
            "grid_template_columns": null,
            "grid_template_rows": null,
            "height": null,
            "justify_content": null,
            "justify_items": null,
            "left": null,
            "margin": null,
            "max_height": null,
            "max_width": null,
            "min_height": null,
            "min_width": null,
            "object_fit": null,
            "object_position": null,
            "order": null,
            "overflow": null,
            "overflow_x": null,
            "overflow_y": null,
            "padding": null,
            "right": null,
            "top": null,
            "visibility": null,
            "width": null
          }
        },
        "a95d8dd26c9d4061adc8f373a305531d": {
          "model_module": "@jupyter-widgets/controls",
          "model_name": "DescriptionStyleModel",
          "model_module_version": "1.5.0",
          "state": {
            "_model_module": "@jupyter-widgets/controls",
            "_model_module_version": "1.5.0",
            "_model_name": "DescriptionStyleModel",
            "_view_count": null,
            "_view_module": "@jupyter-widgets/base",
            "_view_module_version": "1.2.0",
            "_view_name": "StyleView",
            "description_width": ""
          }
        }
      }
    }
  },
  "cells": [
    {
      "cell_type": "markdown",
      "metadata": {
        "id": "view-in-github",
        "colab_type": "text"
      },
      "source": [
        "<a href=\"https://colab.research.google.com/github/keyom-ai/fine-tuning/blob/main/dataset_prep.ipynb\" target=\"_parent\"><img src=\"https://colab.research.google.com/assets/colab-badge.svg\" alt=\"Open In Colab\"/></a>"
      ]
    },
    {
      "cell_type": "markdown",
      "source": [
        "# Processing WikiHow Data for LLM Fine-tuning\n",
        "\n",
        "## Summary\n",
        "\n",
        "This Jupyter/Colab notebook demonstrates the end-to-end process of collecting, cleaning, and formatting data from WikiHow for fine-tuning a Large Language Model (LLM) like Mistral or LLaMA. The notebook covers several key steps in the data preparation pipeline, from web scraping to creating the final dataset in a format suitable for LLM fine-tuning.\n",
        "\n",
        "By following this notebook, students will learn:\n",
        "1. How to scrape data from a website\n",
        "2. Techniques for cleaning and formatting text data\n",
        "3. The process of tokenization for LLMs\n",
        "4. Creating prompt-completion pairs for instruction fine-tuning\n",
        "5. Basic data augmentation techniques\n",
        "6. Splitting data into training and validation sets\n",
        "7. Converting data into a common format for LLM fine-tuning (JSONL)\n",
        "\n",
        "Let's go through each step in detail:"
      ],
      "metadata": {
        "id": "DfYkeAgWQm-y"
      }
    },
    {
      "cell_type": "code",
      "execution_count": 65,
      "metadata": {
        "colab": {
          "base_uri": "https://localhost:8080/"
        },
        "id": "KAC99QLGKNik",
        "outputId": "8092221a-13cf-4ed2-c652-736f81c91226"
      },
      "outputs": [
        {
          "output_type": "stream",
          "name": "stdout",
          "text": [
            "Requirement already satisfied: requests in /usr/local/lib/python3.10/dist-packages (2.31.0)\n",
            "Requirement already satisfied: beautifulsoup4 in /usr/local/lib/python3.10/dist-packages (4.12.3)\n",
            "Requirement already satisfied: tqdm in /usr/local/lib/python3.10/dist-packages (4.66.4)\n",
            "Requirement already satisfied: transformers in /usr/local/lib/python3.10/dist-packages (4.41.2)\n",
            "Requirement already satisfied: scikit-learn in /usr/local/lib/python3.10/dist-packages (1.2.2)\n",
            "Requirement already satisfied: charset-normalizer<4,>=2 in /usr/local/lib/python3.10/dist-packages (from requests) (3.3.2)\n",
            "Requirement already satisfied: idna<4,>=2.5 in /usr/local/lib/python3.10/dist-packages (from requests) (3.7)\n",
            "Requirement already satisfied: urllib3<3,>=1.21.1 in /usr/local/lib/python3.10/dist-packages (from requests) (2.0.7)\n",
            "Requirement already satisfied: certifi>=2017.4.17 in /usr/local/lib/python3.10/dist-packages (from requests) (2024.7.4)\n",
            "Requirement already satisfied: soupsieve>1.2 in /usr/local/lib/python3.10/dist-packages (from beautifulsoup4) (2.5)\n",
            "Requirement already satisfied: filelock in /usr/local/lib/python3.10/dist-packages (from transformers) (3.15.4)\n",
            "Requirement already satisfied: huggingface-hub<1.0,>=0.23.0 in /usr/local/lib/python3.10/dist-packages (from transformers) (0.23.4)\n",
            "Requirement already satisfied: numpy>=1.17 in /usr/local/lib/python3.10/dist-packages (from transformers) (1.25.2)\n",
            "Requirement already satisfied: packaging>=20.0 in /usr/local/lib/python3.10/dist-packages (from transformers) (24.1)\n",
            "Requirement already satisfied: pyyaml>=5.1 in /usr/local/lib/python3.10/dist-packages (from transformers) (6.0.1)\n",
            "Requirement already satisfied: regex!=2019.12.17 in /usr/local/lib/python3.10/dist-packages (from transformers) (2024.5.15)\n",
            "Requirement already satisfied: tokenizers<0.20,>=0.19 in /usr/local/lib/python3.10/dist-packages (from transformers) (0.19.1)\n",
            "Requirement already satisfied: safetensors>=0.4.1 in /usr/local/lib/python3.10/dist-packages (from transformers) (0.4.3)\n",
            "Requirement already satisfied: scipy>=1.3.2 in /usr/local/lib/python3.10/dist-packages (from scikit-learn) (1.11.4)\n",
            "Requirement already satisfied: joblib>=1.1.1 in /usr/local/lib/python3.10/dist-packages (from scikit-learn) (1.4.2)\n",
            "Requirement already satisfied: threadpoolctl>=2.0.0 in /usr/local/lib/python3.10/dist-packages (from scikit-learn) (3.5.0)\n",
            "Requirement already satisfied: fsspec>=2023.5.0 in /usr/local/lib/python3.10/dist-packages (from huggingface-hub<1.0,>=0.23.0->transformers) (2023.6.0)\n",
            "Requirement already satisfied: typing-extensions>=3.7.4.3 in /usr/local/lib/python3.10/dist-packages (from huggingface-hub<1.0,>=0.23.0->transformers) (4.12.2)\n"
          ]
        }
      ],
      "source": [
        "!pip install requests beautifulsoup4 tqdm transformers scikit-learn"
      ]
    },
    {
      "cell_type": "code",
      "source": [
        "# Importing necessary libraries\n",
        "import requests\n",
        "from bs4 import BeautifulSoup\n",
        "import json\n",
        "import re\n",
        "from tqdm import tqdm\n",
        "from transformers import AutoTokenizer\n",
        "from sklearn.model_selection import train_test_split\n"
      ],
      "metadata": {
        "id": "OXujhC8eKSsS"
      },
      "execution_count": 66,
      "outputs": []
    },
    {
      "cell_type": "markdown",
      "source": [
        "## Step 1: Data Collection\n",
        "\n",
        "In this step, we use web scraping techniques to collect data from WikiHow articles.\n",
        "\n",
        "**Explanation:**\n",
        "- We define a function that uses the `requests` library to fetch the HTML content of a WikiHow page and `BeautifulSoup` to parse it.\n",
        "- The function attempts to find the title and steps of the article using various HTML tags and class names.\n",
        "- We then loop through a list of URLs, scraping each article and storing the results.\n"
      ],
      "metadata": {
        "id": "3x0c1gffQ3mB"
      }
    },
    {
      "cell_type": "code",
      "source": [
        "# Step 1: Data Collection\n",
        "def scrape_wikihow_article(url):\n",
        "    response = requests.get(url)\n",
        "    soup = BeautifulSoup(response.content, 'html.parser')\n",
        "\n",
        "    # Try multiple ways to find the title\n",
        "    title_element = (\n",
        "        soup.find('h1', class_='whb') or  # First try\n",
        "        soup.find('h1', class_='firstHeading') or  # Second try\n",
        "        soup.find('h1', class_='title') or  # Third try\n",
        "        soup.find('h1')  # Last resort: any h1 tag\n",
        "    )\n",
        "\n",
        "    if title_element:\n",
        "        title = title_element.text.strip()\n",
        "    else:\n",
        "        title = \"Title not found\"  # Handle cases where title isn't found\n",
        "\n",
        "    # Try to find steps\n",
        "    steps = [step.text.strip() for step in soup.find_all('div', class_='step')]\n",
        "\n",
        "    # If no steps found, try to find list items in the main content\n",
        "    if not steps:\n",
        "        main_content = soup.find('div', class_='mf-section-1')\n",
        "        if main_content:\n",
        "            steps = [li.text.strip() for li in main_content.find_all('li')]\n",
        "\n",
        "    return {'title': title, 'steps': steps}"
      ],
      "metadata": {
        "id": "VNsWHVD1KbzE"
      },
      "execution_count": 67,
      "outputs": []
    },
    {
      "cell_type": "code",
      "source": [
        "# For demonstration, we'll use a small list of URLs\n",
        "urls = [\n",
        "    'https://www.wikihow.com/Budget-Your-Money',\n",
        "    'https://www.wikihow.com/Tie-a-Tie',\n",
        "    'https://www.wikihow.com/Plant-a-Tree'\n",
        "]\n"
      ],
      "metadata": {
        "id": "NNG3DzjqKeGB"
      },
      "execution_count": 68,
      "outputs": []
    },
    {
      "cell_type": "code",
      "source": [
        "articles = []\n",
        "for url in tqdm(urls, desc=\"Scraping articles\"):\n",
        "    articles.append(scrape_wikihow_article(url))\n"
      ],
      "metadata": {
        "colab": {
          "base_uri": "https://localhost:8080/"
        },
        "id": "43J-rBD_KjOo",
        "outputId": "d977d274-4430-4f41-f7f5-b319427862e7"
      },
      "execution_count": 69,
      "outputs": [
        {
          "output_type": "stream",
          "name": "stderr",
          "text": [
            "Scraping articles: 100%|██████████| 3/3 [00:01<00:00,  2.08it/s]\n"
          ]
        }
      ]
    },
    {
      "cell_type": "code",
      "source": [
        "# Print statement after scraping\n",
        "print(\"\\nStep 1: Raw scraped data (first article):\")\n",
        "print(json.dumps(articles[0], indent=2))"
      ],
      "metadata": {
        "colab": {
          "base_uri": "https://localhost:8080/"
        },
        "id": "VNPGFZJdMrvT",
        "outputId": "f63889c5-130e-4c2f-82c1-8ae113705136"
      },
      "execution_count": 70,
      "outputs": [
        {
          "output_type": "stream",
          "name": "stdout",
          "text": [
            "\n",
            "Step 1: Raw scraped data (first article):\n",
            "{\n",
            "  \"title\": \"How to Budget Your Money\",\n",
            "  \"steps\": [\n",
            "    \"Create a budgeting spreadsheet.[2]\\nX\\nExpert Source\\n\\nSamantha Gorelick, CFP\\u00aeFinancial Planner\\nExpert Interview.  6 May 2020.\\n\\n  You can create a simple spreadsheet using Google Sheets or Excel. Your goal is to chart all your expenses and income during the course of a year. So, make a spreadsheet that shows all your information clearly, allowing you to quickly identify any areas where you can spend smarter.[3]\\nX\\nResearch source\\n\\n\\n\\n\\nLabel the top row with the 12 months of the year.\",\n",
            "    \"Find your monthly income after taxes and other payroll deductions. Your net income, or the income that is yours to spend, is your monthly income after taxes, FICA, and other payroll deductions. If you are on a salary, this will be a fixed amount each month, which you can find on your paystub. If you work an hourly position, your income may vary from month to month, but you can find an average amount by looking at your last 3 or 4 paystubs.[4]\\nX\\nResearch source\\n\\n\\n\\n\\nIf you are a freelance worker or self-employed, you may be receiving your entire income without taxes taken out. Try to set aside about 20% of your income to pay your taxes at the end of the year.\",\n",
            "    \"List all of your fixed expenses. Fixed expenses are the things that you pay the same price for every single month. This may include your rent, mortgage, some utilities, student loan payments, or a car payment.[5]\\nX\\nExpert Source\\n\\nSamantha Gorelick, CFP\\u00aeFinancial Planner\\nExpert Interview.  6 May 2020.\\n\\n  Add a label for each expense on the column at the very left of your spreadsheet, then write down the monetary amount you spend in each box underneath its corresponding month. For example:[6]\\nX\\nResearch source\\n\\n\\n\\n\\n\\nRent: $1,000\\nElectric: $100\\nCar payment: $250\\nStudent loans: $400\\nCredit card payment: $100\",\n",
            "    \"Write down your variable expenses. Variable expenses are the ones where the monetary amounts might change from month to month. These are usually the areas that are easy to cut back on if you\\u2019re trying to save money.[7]\\nX\\nExpert Source\\n\\nSamantha Gorelick, CFP\\u00aeFinancial Planner\\nExpert Interview.  6 May 2020.\\n\\n  Add these labels underneath your fixed expenses, then add them for every month that you can. For example, the month of March might say:[8]\\nX\\nResearch source\\n\\n\\n\\n\\n\\nGroceries: $350\\nGas: $120\\nEntertainment: $300\\nPersonal items (hair care, makeup, clothes, etc.): $200\\nVacation fund: $50\\nSavings: $200\",\n",
            "    \"Compare your expenses to your income. To make your monthly budget, add up the total amount of money you spend every month from fixed and variable expenses. Then, subtract that amount from your monthly income. Whatever you have left over is your disposable income, or money that you have left at the end of the month. If you don\\u2019t have any money left or the number is negative, you\\u2019re probably spending more than you make each month.[9]\\nX\\nResearch source\\n\\n\\n\\n\\nFor example: $600 (fixed expenses) + $550 (variable expenses) = $1,150 per month. $2,000 (monthly income) - $1,150 (total expenses) = $850 disposable income.\",\n",
            "    \"Pay all of your non-discretionary expenses first. Before you get into saving money or putting money towards a goal, you have to make sure that you are paying all of your bills.[10]\\nX\\nExpert Source\\n\\nSamantha Gorelick, CFP\\u00aeFinancial Planner\\nExpert Interview.  6 May 2020.\\n\\n  Make sure you\\u2019re allocating enough of your income every month toward bills that you have to pay to keep a roof over your head and food in your mouth.[11]\\nX\\nResearch source\\n\\n\\n\\n\\n\\nThere\\u2019s no point in saving money if you still have outstanding bills to pay!\\nYou should try to allocate 50% of your income towards living expenses and necessities.\",\n",
            "    \"Put your excess money toward a specific goal. Now that you know how much money you have left over at the end of the month, you can start putting that money toward your goals. You can put it into savings, pay off debt, or add it to a college fund for your kids. Make sure you know what you want to do with your extra money so you can make a plan.[12]\\nX\\nResearch source\\n\\n\\n\\n\\n\\nFor example, you could split your extra money into paying off debt and putting it in a savings account every month.\\nYou could also give yourself a spending allowance or invest your excess money each month.\\nTry to put 20% of your income toward savings or a specific goal.\",\n",
            "    \"Adjust your habits if you are overspending. If you calculated how much money you have left over at the end of the month and it isn\\u2019t much, you may need to adjust your spending habits. Try spending less on optional items like clothing, entertainment, and going out to eat. \\n\\nNot everyone is in a position to cut back on spending right now, and that\\u2019s okay. Eating food, paying your bills, and buying clothes are all necessary to live life, and you shouldn\\u2019t feel bad about that.\\nTry to be realistic on what you can cut back on.[13]\\nX\\nExpert Source\\n\\nSamantha Gorelick, CFP\\u00aeFinancial Planner\\nExpert Interview.  6 May 2020.\\n\\n  It\\u2019s easy to say that you can cut your entertainment budget in half, but it might not be fun to forgo going out with your friends every time they ask.\\nAround 30% of your income should be spent on things you want but don\\u2019t need.\",\n",
            "    \"Set short-term goals to achieve within 1 year. Now that you know how much money you receive and spend each month, you can set goals for your spending habits. Short-term goals are things that you can achieve within 12 months, and they should be specific and actionable. For example:[14]\\nX\\nResearch source\\n\\n\\n\\n\\n\\nPut 5% of each paycheck in a savings account.\\nPay off credit card balances in 12 months.\",\n",
            "    \"Create long-term goals to achieve within a few years. Long-term goals are your budgeting goals that might take a little longer than 1 year to achieve. They should also be specific and actionable, and you can think further ahead into the future. For example:[15]\\nX\\nResearch source\\n\\n\\n\\n\\n\\nSave $8,000 in an emergency savings fund.\\nPay off student loans in 3 to 5 years.\\nSave $10,000 for a downpayment on a home.\",\n",
            "    \"Write down what you spend every time you make a purchase. The best way to track how well you\\u2019re doing is to jot a note down every time you spend money. You can do this on a piece of paper, a note on your phone, or on a spreadsheet on the computer\\u2014whatever\\u2019s easiest. That way, you can see where your money is going and what you may be able to cut back on in the future.[16]\\nX\\nResearch source\\n\\n\\n\\n\\nBe really specific when you write down what you spent money on so you don\\u2019t forget it. For example, you could write, \\u201c$22.95 on a new watch for Mom\\u2019s birthday.\\u201d\",\n",
            "    \"Reduce your spending by purchasing less expensive items. If you realize that you\\u2019re overspending, you may be able to make small changes to your habits that don\\u2019t affect your life much at all. For example, try buying in bulk at the grocery store instead of going for name-brand items. Or, make your coffee at home instead of buying one from a coffee shop. Small changes like this can add up over time, so keep at it![17]\\nX\\nResearch source\\n\\n\\n\\n\\nTry packing your lunch instead of buying one, exercising outside instead of at the gym, subscribing to an online newspaper instead of buying one, or getting your books from the library instead of buying them brand new.\",\n",
            "    \"Review your budget every month. Your income or expenses may change from month to month, and it\\u2019s important to keep your budget updated. Be sure to keep track of your total spending and savings, and adjust your expenses if you need to.[18]\\nX\\nResearch source\\n\\n\\n\\n\\n\\nAt the beginning of each month, take a look at last month\\u2019s budget and see how you did. This can help you make adjustments for the future.\\nIf you got a pay raise or paid off a debt, this can also affect your budget.\",\n",
            "    \"Use a budgeting tool to make your budget easier.[19]\\nX\\nExpert Source\\n\\nSamantha Gorelick, CFP\\u00aeFinancial Planner\\nExpert Interview.  6 May 2020.\\n\\n  Spreadsheets are great, but it can be tough to keep track of your info all on your own. If you want to make your budget run a little smoother, try updating your information onto a budgeting website or app. That way, you\\u2019ll already have a budgeting template, and you can set reminders on the website to upload your spending habits so you don\\u2019t forget.[20]\\nX\\nResearch source\\n\\n\\n\\n\\n\\nQuicken, Mint, YNAB, AceMoney, and BudgetPlus all offer budgeting services.\",\n",
            "    \"Treat yourself periodically, but within reason. Your money has to work for you, not the other way around. You don't want to feel like a slave to your budget, or to money in general, so it's important to allow yourself a small treat every month that won't break your budget.[21]\\nX\\nResearch source\\n\\n\\n\\n\\nTake a look at your budget and decide what you can afford to splurge on. Some months you might be able to afford a new pair of shoes, other months you might go for a latte or a new notebook.\",\n",
            "    \"Pay off your debt every month, if you can. If you use credit cards or have student loan debt, you should try to pay off at least the minimum amount every month to avoid high interest rates.  If you cannot pay off the current balances, prioritize paying them off within a reasonable time period so that you can get to zero balances.[22]\\nX\\nResearch source\\n\\n\\n\\n\\nIf you can afford to put more money toward your debt each month, you should prioritize that. Paying the minimum payment each month can take a long time to pay off your debt, and you can pay a ton of money in interest rates.\",\n",
            "    \"Keep money in savings for emergencies. You can never plan for emergencies, and they can destroy your budget if they catch you off guard. Try to set aside some money every month in case your car breaks down, you need medical care, or you lose your job. That way, you\\u2019ll have a cushion to help you out.[23]\\nX\\nResearch source\\n\\n\\n\\n\\n\\nIt\\u2019s better to plan ahead for the unexpected now than let it catch you off guard.\\nIf something unexpected does happen, reach out to your credit card company and student loan company to see if they can forgive some late payments or hold off on collections for a few months.\\nThe general rule of thumb is to save enough money to cover 6 months of your expenses. For example, if you spend $1,500 every month, try to save $9,000 for emergencies.\"\n",
            "  ]\n",
            "}\n"
          ]
        }
      ]
    },
    {
      "cell_type": "markdown",
      "source": [
        "## Step 2 & 3: Data Cleaning and Formatting\n",
        "\n",
        "These steps involve cleaning the raw scraped data and formatting it into a structured format.\n",
        "\n",
        "**Explanation:**\n",
        "- We use regular expressions to remove special characters from the title and steps.\n",
        "- The steps are formatted into a numbered list.\n",
        "- The cleaned and formatted data is stored in a new structure with 'title' and 'content' fields."
      ],
      "metadata": {
        "id": "VZTzlD1uQ-SY"
      }
    },
    {
      "cell_type": "code",
      "source": [
        "# Step 2 & 3: Data Cleaning and Formatting\n",
        "def clean_and_format_article(article):\n",
        "    clean_title = re.sub(r'[^\\w\\s]', '', article['title'])\n",
        "    clean_steps = [re.sub(r'[^\\w\\s]', '', step) for step in article['steps']]\n",
        "    formatted_steps = \"\\n\".join([f\"{i+1}. {step}\" for i, step in enumerate(clean_steps)])\n",
        "    return {\n",
        "        'title': clean_title,\n",
        "        'content': formatted_steps\n",
        "    }\n",
        "\n",
        "cleaned_articles = [clean_and_format_article(article) for article in articles]\n",
        "\n",
        "# Print statement after cleaning and formatting\n",
        "print(\"\\nStep 2 & 3: Cleaned and formatted data (first article):\")\n",
        "print(json.dumps(cleaned_articles[0], indent=2))"
      ],
      "metadata": {
        "colab": {
          "base_uri": "https://localhost:8080/"
        },
        "id": "4Wlin5p9KmUa",
        "outputId": "5f3b385f-bdea-4045-bf35-3260e5a61a26"
      },
      "execution_count": 71,
      "outputs": [
        {
          "output_type": "stream",
          "name": "stdout",
          "text": [
            "\n",
            "Step 2 & 3: Cleaned and formatted data (first article):\n",
            "{\n",
            "  \"title\": \"How to Budget Your Money\",\n",
            "  \"content\": \"1. Create a budgeting spreadsheet2\\nX\\nExpert Source\\n\\nSamantha Gorelick CFPFinancial Planner\\nExpert Interview  6 May 2020\\n\\n  You can create a simple spreadsheet using Google Sheets or Excel Your goal is to chart all your expenses and income during the course of a year So make a spreadsheet that shows all your information clearly allowing you to quickly identify any areas where you can spend smarter3\\nX\\nResearch source\\n\\n\\n\\n\\nLabel the top row with the 12 months of the year\\n2. Find your monthly income after taxes and other payroll deductions Your net income or the income that is yours to spend is your monthly income after taxes FICA and other payroll deductions If you are on a salary this will be a fixed amount each month which you can find on your paystub If you work an hourly position your income may vary from month to month but you can find an average amount by looking at your last 3 or 4 paystubs4\\nX\\nResearch source\\n\\n\\n\\n\\nIf you are a freelance worker or selfemployed you may be receiving your entire income without taxes taken out Try to set aside about 20 of your income to pay your taxes at the end of the year\\n3. List all of your fixed expenses Fixed expenses are the things that you pay the same price for every single month This may include your rent mortgage some utilities student loan payments or a car payment5\\nX\\nExpert Source\\n\\nSamantha Gorelick CFPFinancial Planner\\nExpert Interview  6 May 2020\\n\\n  Add a label for each expense on the column at the very left of your spreadsheet then write down the monetary amount you spend in each box underneath its corresponding month For example6\\nX\\nResearch source\\n\\n\\n\\n\\n\\nRent 1000\\nElectric 100\\nCar payment 250\\nStudent loans 400\\nCredit card payment 100\\n4. Write down your variable expenses Variable expenses are the ones where the monetary amounts might change from month to month These are usually the areas that are easy to cut back on if youre trying to save money7\\nX\\nExpert Source\\n\\nSamantha Gorelick CFPFinancial Planner\\nExpert Interview  6 May 2020\\n\\n  Add these labels underneath your fixed expenses then add them for every month that you can For example the month of March might say8\\nX\\nResearch source\\n\\n\\n\\n\\n\\nGroceries 350\\nGas 120\\nEntertainment 300\\nPersonal items hair care makeup clothes etc 200\\nVacation fund 50\\nSavings 200\\n5. Compare your expenses to your income To make your monthly budget add up the total amount of money you spend every month from fixed and variable expenses Then subtract that amount from your monthly income Whatever you have left over is your disposable income or money that you have left at the end of the month If you dont have any money left or the number is negative youre probably spending more than you make each month9\\nX\\nResearch source\\n\\n\\n\\n\\nFor example 600 fixed expenses  550 variable expenses  1150 per month 2000 monthly income  1150 total expenses  850 disposable income\\n6. Pay all of your nondiscretionary expenses first Before you get into saving money or putting money towards a goal you have to make sure that you are paying all of your bills10\\nX\\nExpert Source\\n\\nSamantha Gorelick CFPFinancial Planner\\nExpert Interview  6 May 2020\\n\\n  Make sure youre allocating enough of your income every month toward bills that you have to pay to keep a roof over your head and food in your mouth11\\nX\\nResearch source\\n\\n\\n\\n\\n\\nTheres no point in saving money if you still have outstanding bills to pay\\nYou should try to allocate 50 of your income towards living expenses and necessities\\n7. Put your excess money toward a specific goal Now that you know how much money you have left over at the end of the month you can start putting that money toward your goals You can put it into savings pay off debt or add it to a college fund for your kids Make sure you know what you want to do with your extra money so you can make a plan12\\nX\\nResearch source\\n\\n\\n\\n\\n\\nFor example you could split your extra money into paying off debt and putting it in a savings account every month\\nYou could also give yourself a spending allowance or invest your excess money each month\\nTry to put 20 of your income toward savings or a specific goal\\n8. Adjust your habits if you are overspending If you calculated how much money you have left over at the end of the month and it isnt much you may need to adjust your spending habits Try spending less on optional items like clothing entertainment and going out to eat \\n\\nNot everyone is in a position to cut back on spending right now and thats okay Eating food paying your bills and buying clothes are all necessary to live life and you shouldnt feel bad about that\\nTry to be realistic on what you can cut back on13\\nX\\nExpert Source\\n\\nSamantha Gorelick CFPFinancial Planner\\nExpert Interview  6 May 2020\\n\\n  Its easy to say that you can cut your entertainment budget in half but it might not be fun to forgo going out with your friends every time they ask\\nAround 30 of your income should be spent on things you want but dont need\\n9. Set shortterm goals to achieve within 1 year Now that you know how much money you receive and spend each month you can set goals for your spending habits Shortterm goals are things that you can achieve within 12 months and they should be specific and actionable For example14\\nX\\nResearch source\\n\\n\\n\\n\\n\\nPut 5 of each paycheck in a savings account\\nPay off credit card balances in 12 months\\n10. Create longterm goals to achieve within a few years Longterm goals are your budgeting goals that might take a little longer than 1 year to achieve They should also be specific and actionable and you can think further ahead into the future For example15\\nX\\nResearch source\\n\\n\\n\\n\\n\\nSave 8000 in an emergency savings fund\\nPay off student loans in 3 to 5 years\\nSave 10000 for a downpayment on a home\\n11. Write down what you spend every time you make a purchase The best way to track how well youre doing is to jot a note down every time you spend money You can do this on a piece of paper a note on your phone or on a spreadsheet on the computerwhatevers easiest That way you can see where your money is going and what you may be able to cut back on in the future16\\nX\\nResearch source\\n\\n\\n\\n\\nBe really specific when you write down what you spent money on so you dont forget it For example you could write 2295 on a new watch for Moms birthday\\n12. Reduce your spending by purchasing less expensive items If you realize that youre overspending you may be able to make small changes to your habits that dont affect your life much at all For example try buying in bulk at the grocery store instead of going for namebrand items Or make your coffee at home instead of buying one from a coffee shop Small changes like this can add up over time so keep at it17\\nX\\nResearch source\\n\\n\\n\\n\\nTry packing your lunch instead of buying one exercising outside instead of at the gym subscribing to an online newspaper instead of buying one or getting your books from the library instead of buying them brand new\\n13. Review your budget every month Your income or expenses may change from month to month and its important to keep your budget updated Be sure to keep track of your total spending and savings and adjust your expenses if you need to18\\nX\\nResearch source\\n\\n\\n\\n\\n\\nAt the beginning of each month take a look at last months budget and see how you did This can help you make adjustments for the future\\nIf you got a pay raise or paid off a debt this can also affect your budget\\n14. Use a budgeting tool to make your budget easier19\\nX\\nExpert Source\\n\\nSamantha Gorelick CFPFinancial Planner\\nExpert Interview  6 May 2020\\n\\n  Spreadsheets are great but it can be tough to keep track of your info all on your own If you want to make your budget run a little smoother try updating your information onto a budgeting website or app That way youll already have a budgeting template and you can set reminders on the website to upload your spending habits so you dont forget20\\nX\\nResearch source\\n\\n\\n\\n\\n\\nQuicken Mint YNAB AceMoney and BudgetPlus all offer budgeting services\\n15. Treat yourself periodically but within reason Your money has to work for you not the other way around You dont want to feel like a slave to your budget or to money in general so its important to allow yourself a small treat every month that wont break your budget21\\nX\\nResearch source\\n\\n\\n\\n\\nTake a look at your budget and decide what you can afford to splurge on Some months you might be able to afford a new pair of shoes other months you might go for a latte or a new notebook\\n16. Pay off your debt every month if you can If you use credit cards or have student loan debt you should try to pay off at least the minimum amount every month to avoid high interest rates  If you cannot pay off the current balances prioritize paying them off within a reasonable time period so that you can get to zero balances22\\nX\\nResearch source\\n\\n\\n\\n\\nIf you can afford to put more money toward your debt each month you should prioritize that Paying the minimum payment each month can take a long time to pay off your debt and you can pay a ton of money in interest rates\\n17. Keep money in savings for emergencies You can never plan for emergencies and they can destroy your budget if they catch you off guard Try to set aside some money every month in case your car breaks down you need medical care or you lose your job That way youll have a cushion to help you out23\\nX\\nResearch source\\n\\n\\n\\n\\n\\nIts better to plan ahead for the unexpected now than let it catch you off guard\\nIf something unexpected does happen reach out to your credit card company and student loan company to see if they can forgive some late payments or hold off on collections for a few months\\nThe general rule of thumb is to save enough money to cover 6 months of your expenses For example if you spend 1500 every month try to save 9000 for emergencies\"\n",
            "}\n"
          ]
        }
      ]
    },
    {
      "cell_type": "markdown",
      "source": [
        "**Explanation:**\n",
        "These steps involve setting up Hugging Face authentication as the model we are going to use \"Mistral-7B\" is a gated model."
      ],
      "metadata": {
        "id": "5ABLDin4R154"
      }
    },
    {
      "cell_type": "code",
      "source": [
        "!pip install huggingface_hub\n",
        "from huggingface_hub import notebook_login\n",
        "\n",
        "notebook_login() # This will prompt you to enter your token"
      ],
      "metadata": {
        "colab": {
          "base_uri": "https://localhost:8080/",
          "height": 353,
          "referenced_widgets": [
            "1a1cae96aa2f42868eb72b618b36282e",
            "2d1ff77f7bd44db79fe5b1678df3ab96",
            "e7b5e625f7cb473cb4fa3bd46ef8bc39",
            "3fd27f5d8b5c47d79def255d275e9793",
            "88ebed0b86434a5fa407a0a6522ca2f5",
            "b24294f9e44948febbfef3a9bddcabeb",
            "ee5016ea1f2f439181d2d8429a77bb67",
            "5d7021f9c9594faeb58039bda0cc6567",
            "c2a86071a2a2497f805a02e1d2ddaec1",
            "81ea52c5a83042fea972df9dbde0c92c",
            "e4bbc6bf0658417eadbc7a34eb3ac627",
            "37c9b67e5ce743a2bc4f0d798af36fde",
            "e50f7691a9814d129ae1aa868cff65cb",
            "9c765b7e7fb94bc0bd9f7d640d1d1eff",
            "ff5bb23a35814800bdb68a9aa43135d4",
            "bcff1e12222b484caaeaa01372b0f1d0",
            "2dcb54917f3d4210be92a015173d2189",
            "31898d8311d54f7e9ba36593968cde53",
            "3238ea420a1147049fb1fbd688ce0998",
            "f5676d5856af4982a1193e39353461ed",
            "90fe8c7a447b4ea08acc2ca882dd206a",
            "c3056b44f1c44e35b33d1f4c6f1ec22f",
            "faa4ed58d9a046c09504747aedddc3d7",
            "53e18d8be907452086168683aea3f29f",
            "b317205744644d1e960656fc627f500a",
            "e288c5a4dc304bb5b04e19bf52389f8f",
            "e2e47e3190b64a438b8f4b74cddcbea2",
            "2f18d260541749c392b3460c379052ba",
            "084b718cc0154a06b1cf4be6b36ff089",
            "d5558348b9e645e2bfff71c072089db6",
            "815d7cd81a2e40fab07bf66b8a3a423a",
            "a95d8dd26c9d4061adc8f373a305531d"
          ]
        },
        "id": "DIgzI5xLLg4t",
        "outputId": "3109c788-5569-44ce-ff08-d5667dad34d0"
      },
      "execution_count": 72,
      "outputs": [
        {
          "output_type": "stream",
          "name": "stdout",
          "text": [
            "Requirement already satisfied: huggingface_hub in /usr/local/lib/python3.10/dist-packages (0.23.4)\n",
            "Requirement already satisfied: filelock in /usr/local/lib/python3.10/dist-packages (from huggingface_hub) (3.15.4)\n",
            "Requirement already satisfied: fsspec>=2023.5.0 in /usr/local/lib/python3.10/dist-packages (from huggingface_hub) (2023.6.0)\n",
            "Requirement already satisfied: packaging>=20.9 in /usr/local/lib/python3.10/dist-packages (from huggingface_hub) (24.1)\n",
            "Requirement already satisfied: pyyaml>=5.1 in /usr/local/lib/python3.10/dist-packages (from huggingface_hub) (6.0.1)\n",
            "Requirement already satisfied: requests in /usr/local/lib/python3.10/dist-packages (from huggingface_hub) (2.31.0)\n",
            "Requirement already satisfied: tqdm>=4.42.1 in /usr/local/lib/python3.10/dist-packages (from huggingface_hub) (4.66.4)\n",
            "Requirement already satisfied: typing-extensions>=3.7.4.3 in /usr/local/lib/python3.10/dist-packages (from huggingface_hub) (4.12.2)\n",
            "Requirement already satisfied: charset-normalizer<4,>=2 in /usr/local/lib/python3.10/dist-packages (from requests->huggingface_hub) (3.3.2)\n",
            "Requirement already satisfied: idna<4,>=2.5 in /usr/local/lib/python3.10/dist-packages (from requests->huggingface_hub) (3.7)\n",
            "Requirement already satisfied: urllib3<3,>=1.21.1 in /usr/local/lib/python3.10/dist-packages (from requests->huggingface_hub) (2.0.7)\n",
            "Requirement already satisfied: certifi>=2017.4.17 in /usr/local/lib/python3.10/dist-packages (from requests->huggingface_hub) (2024.7.4)\n"
          ]
        },
        {
          "output_type": "display_data",
          "data": {
            "text/plain": [
              "VBox(children=(HTML(value='<center> <img\\nsrc=https://huggingface.co/front/assets/huggingface_logo-noborder.sv…"
            ],
            "application/vnd.jupyter.widget-view+json": {
              "version_major": 2,
              "version_minor": 0,
              "model_id": "1a1cae96aa2f42868eb72b618b36282e"
            }
          },
          "metadata": {}
        }
      ]
    },
    {
      "cell_type": "markdown",
      "source": [
        "## Step 4: Tokenization\n",
        "\n",
        "In this step, we tokenize the text using the tokenizer of our target LLM (in this case, Mistral). Remember, Mistral model is 'gated' model, that means you must have to go to Hugging Face website, and agree to the terms of Mistral before you can use this model and before you can proceed to the next step. If you get 403 error, that means you have not agreed to their terms.\n",
        "\n",
        "**Explanation:**\n",
        "- We use the Hugging Face `transformers` library to load the Mistral tokenizer.\n",
        "- Each article is tokenized as a combination of a prompt and the article content.\n",
        "- We limit the token length to a maximum of 1024 tokens (adjust this based on your LLM's requirements).\n"
      ],
      "metadata": {
        "id": "9blOqracRGJ9"
      }
    },
    {
      "cell_type": "code",
      "source": [
        "# Step 4: Tokenization\n",
        "tokenizer = AutoTokenizer.from_pretrained(\"mistralai/Mistral-7B-v0.1\")\n"
      ],
      "metadata": {
        "id": "0m0j7RwhLDse"
      },
      "execution_count": 73,
      "outputs": []
    },
    {
      "cell_type": "code",
      "source": [
        "def tokenize_article(article, max_length=1024):\n",
        "    prompt = f\"How do I {article['title']}?\"\n",
        "    completion = article['content']\n",
        "    tokens = tokenizer.encode(prompt + completion)\n",
        "    if len(tokens) > max_length:\n",
        "        tokens = tokens[:max_length]\n",
        "    return tokens\n",
        "\n",
        "tokenized_articles = [tokenize_article(article) for article in cleaned_articles]\n",
        "# Print statement after tokenization\n",
        "print(\"\\nStep 4: Tokenized data (first 10 tokens of first article):\")\n",
        "print(tokenized_articles[0][:10])\n",
        "print(f\"Total tokens in first article: {len(tokenized_articles[0])}\")\n"
      ],
      "metadata": {
        "colab": {
          "base_uri": "https://localhost:8080/"
        },
        "id": "v_-jnuPkLGXQ",
        "outputId": "516e50ac-e668-4749-e2e0-4b24bdab2e8d"
      },
      "execution_count": 74,
      "outputs": [
        {
          "output_type": "stream",
          "name": "stdout",
          "text": [
            "\n",
            "Step 4: Tokenized data (first 10 tokens of first article):\n",
            "[1, 1602, 511, 315, 1602, 298, 7095, 527, 3604, 17786]\n",
            "Total tokens in first article: 1024\n"
          ]
        }
      ]
    },
    {
      "cell_type": "markdown",
      "source": [
        "## Step 5: Creating Prompt-Completion Pairs\n",
        "\n",
        "Here, we format our data into prompt-completion pairs, which is a common format for instruction fine-tuning.\n",
        "\n",
        "**Explanation:**\n",
        "- We create a prompt in the form of a question: \"How do I [article title]?\"\n",
        "- The article content serves as the completion (answer) to this prompt."
      ],
      "metadata": {
        "id": "cRfFCqUyRPwq"
      }
    },
    {
      "cell_type": "code",
      "source": [
        "# Step 5: Creating Prompt-Completion Pairs\n",
        "def create_prompt_completion_pair(article):\n",
        "    return {\n",
        "        'prompt': f\"How do I {article['title']}?\",\n",
        "        'completion': article['content']\n",
        "    }\n",
        "\n",
        "prompt_completion_pairs = [create_prompt_completion_pair(article) for article in cleaned_articles]\n",
        "# Print statement after creating prompt-completion pairs\n",
        "print(\"\\nStep 5: Prompt-Completion Pair (first article):\")\n",
        "print(json.dumps(prompt_completion_pairs[0], indent=2))\n",
        "print(f\"Total prompt-completion pairs: {len(prompt_completion_pairs)}\")\n"
      ],
      "metadata": {
        "colab": {
          "base_uri": "https://localhost:8080/"
        },
        "id": "VDprL56jLyTx",
        "outputId": "a123c8b2-2d3d-4810-9007-6efdac0d572e"
      },
      "execution_count": 75,
      "outputs": [
        {
          "output_type": "stream",
          "name": "stdout",
          "text": [
            "\n",
            "Step 5: Prompt-Completion Pair (first article):\n",
            "{\n",
            "  \"prompt\": \"How do I How to Budget Your Money?\",\n",
            "  \"completion\": \"1. Create a budgeting spreadsheet2\\nX\\nExpert Source\\n\\nSamantha Gorelick CFPFinancial Planner\\nExpert Interview  6 May 2020\\n\\n  You can create a simple spreadsheet using Google Sheets or Excel Your goal is to chart all your expenses and income during the course of a year So make a spreadsheet that shows all your information clearly allowing you to quickly identify any areas where you can spend smarter3\\nX\\nResearch source\\n\\n\\n\\n\\nLabel the top row with the 12 months of the year\\n2. Find your monthly income after taxes and other payroll deductions Your net income or the income that is yours to spend is your monthly income after taxes FICA and other payroll deductions If you are on a salary this will be a fixed amount each month which you can find on your paystub If you work an hourly position your income may vary from month to month but you can find an average amount by looking at your last 3 or 4 paystubs4\\nX\\nResearch source\\n\\n\\n\\n\\nIf you are a freelance worker or selfemployed you may be receiving your entire income without taxes taken out Try to set aside about 20 of your income to pay your taxes at the end of the year\\n3. List all of your fixed expenses Fixed expenses are the things that you pay the same price for every single month This may include your rent mortgage some utilities student loan payments or a car payment5\\nX\\nExpert Source\\n\\nSamantha Gorelick CFPFinancial Planner\\nExpert Interview  6 May 2020\\n\\n  Add a label for each expense on the column at the very left of your spreadsheet then write down the monetary amount you spend in each box underneath its corresponding month For example6\\nX\\nResearch source\\n\\n\\n\\n\\n\\nRent 1000\\nElectric 100\\nCar payment 250\\nStudent loans 400\\nCredit card payment 100\\n4. Write down your variable expenses Variable expenses are the ones where the monetary amounts might change from month to month These are usually the areas that are easy to cut back on if youre trying to save money7\\nX\\nExpert Source\\n\\nSamantha Gorelick CFPFinancial Planner\\nExpert Interview  6 May 2020\\n\\n  Add these labels underneath your fixed expenses then add them for every month that you can For example the month of March might say8\\nX\\nResearch source\\n\\n\\n\\n\\n\\nGroceries 350\\nGas 120\\nEntertainment 300\\nPersonal items hair care makeup clothes etc 200\\nVacation fund 50\\nSavings 200\\n5. Compare your expenses to your income To make your monthly budget add up the total amount of money you spend every month from fixed and variable expenses Then subtract that amount from your monthly income Whatever you have left over is your disposable income or money that you have left at the end of the month If you dont have any money left or the number is negative youre probably spending more than you make each month9\\nX\\nResearch source\\n\\n\\n\\n\\nFor example 600 fixed expenses  550 variable expenses  1150 per month 2000 monthly income  1150 total expenses  850 disposable income\\n6. Pay all of your nondiscretionary expenses first Before you get into saving money or putting money towards a goal you have to make sure that you are paying all of your bills10\\nX\\nExpert Source\\n\\nSamantha Gorelick CFPFinancial Planner\\nExpert Interview  6 May 2020\\n\\n  Make sure youre allocating enough of your income every month toward bills that you have to pay to keep a roof over your head and food in your mouth11\\nX\\nResearch source\\n\\n\\n\\n\\n\\nTheres no point in saving money if you still have outstanding bills to pay\\nYou should try to allocate 50 of your income towards living expenses and necessities\\n7. Put your excess money toward a specific goal Now that you know how much money you have left over at the end of the month you can start putting that money toward your goals You can put it into savings pay off debt or add it to a college fund for your kids Make sure you know what you want to do with your extra money so you can make a plan12\\nX\\nResearch source\\n\\n\\n\\n\\n\\nFor example you could split your extra money into paying off debt and putting it in a savings account every month\\nYou could also give yourself a spending allowance or invest your excess money each month\\nTry to put 20 of your income toward savings or a specific goal\\n8. Adjust your habits if you are overspending If you calculated how much money you have left over at the end of the month and it isnt much you may need to adjust your spending habits Try spending less on optional items like clothing entertainment and going out to eat \\n\\nNot everyone is in a position to cut back on spending right now and thats okay Eating food paying your bills and buying clothes are all necessary to live life and you shouldnt feel bad about that\\nTry to be realistic on what you can cut back on13\\nX\\nExpert Source\\n\\nSamantha Gorelick CFPFinancial Planner\\nExpert Interview  6 May 2020\\n\\n  Its easy to say that you can cut your entertainment budget in half but it might not be fun to forgo going out with your friends every time they ask\\nAround 30 of your income should be spent on things you want but dont need\\n9. Set shortterm goals to achieve within 1 year Now that you know how much money you receive and spend each month you can set goals for your spending habits Shortterm goals are things that you can achieve within 12 months and they should be specific and actionable For example14\\nX\\nResearch source\\n\\n\\n\\n\\n\\nPut 5 of each paycheck in a savings account\\nPay off credit card balances in 12 months\\n10. Create longterm goals to achieve within a few years Longterm goals are your budgeting goals that might take a little longer than 1 year to achieve They should also be specific and actionable and you can think further ahead into the future For example15\\nX\\nResearch source\\n\\n\\n\\n\\n\\nSave 8000 in an emergency savings fund\\nPay off student loans in 3 to 5 years\\nSave 10000 for a downpayment on a home\\n11. Write down what you spend every time you make a purchase The best way to track how well youre doing is to jot a note down every time you spend money You can do this on a piece of paper a note on your phone or on a spreadsheet on the computerwhatevers easiest That way you can see where your money is going and what you may be able to cut back on in the future16\\nX\\nResearch source\\n\\n\\n\\n\\nBe really specific when you write down what you spent money on so you dont forget it For example you could write 2295 on a new watch for Moms birthday\\n12. Reduce your spending by purchasing less expensive items If you realize that youre overspending you may be able to make small changes to your habits that dont affect your life much at all For example try buying in bulk at the grocery store instead of going for namebrand items Or make your coffee at home instead of buying one from a coffee shop Small changes like this can add up over time so keep at it17\\nX\\nResearch source\\n\\n\\n\\n\\nTry packing your lunch instead of buying one exercising outside instead of at the gym subscribing to an online newspaper instead of buying one or getting your books from the library instead of buying them brand new\\n13. Review your budget every month Your income or expenses may change from month to month and its important to keep your budget updated Be sure to keep track of your total spending and savings and adjust your expenses if you need to18\\nX\\nResearch source\\n\\n\\n\\n\\n\\nAt the beginning of each month take a look at last months budget and see how you did This can help you make adjustments for the future\\nIf you got a pay raise or paid off a debt this can also affect your budget\\n14. Use a budgeting tool to make your budget easier19\\nX\\nExpert Source\\n\\nSamantha Gorelick CFPFinancial Planner\\nExpert Interview  6 May 2020\\n\\n  Spreadsheets are great but it can be tough to keep track of your info all on your own If you want to make your budget run a little smoother try updating your information onto a budgeting website or app That way youll already have a budgeting template and you can set reminders on the website to upload your spending habits so you dont forget20\\nX\\nResearch source\\n\\n\\n\\n\\n\\nQuicken Mint YNAB AceMoney and BudgetPlus all offer budgeting services\\n15. Treat yourself periodically but within reason Your money has to work for you not the other way around You dont want to feel like a slave to your budget or to money in general so its important to allow yourself a small treat every month that wont break your budget21\\nX\\nResearch source\\n\\n\\n\\n\\nTake a look at your budget and decide what you can afford to splurge on Some months you might be able to afford a new pair of shoes other months you might go for a latte or a new notebook\\n16. Pay off your debt every month if you can If you use credit cards or have student loan debt you should try to pay off at least the minimum amount every month to avoid high interest rates  If you cannot pay off the current balances prioritize paying them off within a reasonable time period so that you can get to zero balances22\\nX\\nResearch source\\n\\n\\n\\n\\nIf you can afford to put more money toward your debt each month you should prioritize that Paying the minimum payment each month can take a long time to pay off your debt and you can pay a ton of money in interest rates\\n17. Keep money in savings for emergencies You can never plan for emergencies and they can destroy your budget if they catch you off guard Try to set aside some money every month in case your car breaks down you need medical care or you lose your job That way youll have a cushion to help you out23\\nX\\nResearch source\\n\\n\\n\\n\\n\\nIts better to plan ahead for the unexpected now than let it catch you off guard\\nIf something unexpected does happen reach out to your credit card company and student loan company to see if they can forgive some late payments or hold off on collections for a few months\\nThe general rule of thumb is to save enough money to cover 6 months of your expenses For example if you spend 1500 every month try to save 9000 for emergencies\"\n",
            "}\n",
            "Total prompt-completion pairs: 3\n"
          ]
        }
      ]
    },
    {
      "cell_type": "markdown",
      "source": [
        "## Step 6: Data Augmentation\n",
        "\n",
        "This step demonstrates a simple data augmentation technique to increase the size and diversity of our dataset.\n",
        "\n",
        "**Explanation:**\n",
        "- We create a new prompt variation for each article: \"What are the steps to [article title]?\"\n",
        "- This doubles our dataset size and provides some variety in how questions can be asked."
      ],
      "metadata": {
        "id": "6ryXmsdjRUO9"
      }
    },
    {
      "cell_type": "code",
      "source": [
        "# Step 6: Data Augmentation (simplified example)\n",
        "def augment_data(pair):\n",
        "    augmented_pairs = [pair]\n",
        "    augmented_pairs.append({\n",
        "        'prompt': f\"What are the steps to {pair['prompt'][9:]}\",\n",
        "        'completion': pair['completion']\n",
        "    })\n",
        "    return augmented_pairs\n",
        "\n",
        "augmented_data = [aug_pair for pair in prompt_completion_pairs for aug_pair in augment_data(pair)]\n",
        "# Print statement after data augmentation\n",
        "print(\"\\nStep 6: Augmented Data (first two pairs for first article):\")\n",
        "print(json.dumps(augmented_data[:2], indent=2))\n",
        "\n"
      ],
      "metadata": {
        "colab": {
          "base_uri": "https://localhost:8080/"
        },
        "id": "T1Lga1WLL1nr",
        "outputId": "4c6d3739-001f-44a5-e307-e9964672a0b1"
      },
      "execution_count": 76,
      "outputs": [
        {
          "output_type": "stream",
          "name": "stdout",
          "text": [
            "\n",
            "Step 6: Augmented Data (first two pairs for first article):\n",
            "[\n",
            "  {\n",
            "    \"prompt\": \"How do I How to Budget Your Money?\",\n",
            "    \"completion\": \"1. Create a budgeting spreadsheet2\\nX\\nExpert Source\\n\\nSamantha Gorelick CFPFinancial Planner\\nExpert Interview  6 May 2020\\n\\n  You can create a simple spreadsheet using Google Sheets or Excel Your goal is to chart all your expenses and income during the course of a year So make a spreadsheet that shows all your information clearly allowing you to quickly identify any areas where you can spend smarter3\\nX\\nResearch source\\n\\n\\n\\n\\nLabel the top row with the 12 months of the year\\n2. Find your monthly income after taxes and other payroll deductions Your net income or the income that is yours to spend is your monthly income after taxes FICA and other payroll deductions If you are on a salary this will be a fixed amount each month which you can find on your paystub If you work an hourly position your income may vary from month to month but you can find an average amount by looking at your last 3 or 4 paystubs4\\nX\\nResearch source\\n\\n\\n\\n\\nIf you are a freelance worker or selfemployed you may be receiving your entire income without taxes taken out Try to set aside about 20 of your income to pay your taxes at the end of the year\\n3. List all of your fixed expenses Fixed expenses are the things that you pay the same price for every single month This may include your rent mortgage some utilities student loan payments or a car payment5\\nX\\nExpert Source\\n\\nSamantha Gorelick CFPFinancial Planner\\nExpert Interview  6 May 2020\\n\\n  Add a label for each expense on the column at the very left of your spreadsheet then write down the monetary amount you spend in each box underneath its corresponding month For example6\\nX\\nResearch source\\n\\n\\n\\n\\n\\nRent 1000\\nElectric 100\\nCar payment 250\\nStudent loans 400\\nCredit card payment 100\\n4. Write down your variable expenses Variable expenses are the ones where the monetary amounts might change from month to month These are usually the areas that are easy to cut back on if youre trying to save money7\\nX\\nExpert Source\\n\\nSamantha Gorelick CFPFinancial Planner\\nExpert Interview  6 May 2020\\n\\n  Add these labels underneath your fixed expenses then add them for every month that you can For example the month of March might say8\\nX\\nResearch source\\n\\n\\n\\n\\n\\nGroceries 350\\nGas 120\\nEntertainment 300\\nPersonal items hair care makeup clothes etc 200\\nVacation fund 50\\nSavings 200\\n5. Compare your expenses to your income To make your monthly budget add up the total amount of money you spend every month from fixed and variable expenses Then subtract that amount from your monthly income Whatever you have left over is your disposable income or money that you have left at the end of the month If you dont have any money left or the number is negative youre probably spending more than you make each month9\\nX\\nResearch source\\n\\n\\n\\n\\nFor example 600 fixed expenses  550 variable expenses  1150 per month 2000 monthly income  1150 total expenses  850 disposable income\\n6. Pay all of your nondiscretionary expenses first Before you get into saving money or putting money towards a goal you have to make sure that you are paying all of your bills10\\nX\\nExpert Source\\n\\nSamantha Gorelick CFPFinancial Planner\\nExpert Interview  6 May 2020\\n\\n  Make sure youre allocating enough of your income every month toward bills that you have to pay to keep a roof over your head and food in your mouth11\\nX\\nResearch source\\n\\n\\n\\n\\n\\nTheres no point in saving money if you still have outstanding bills to pay\\nYou should try to allocate 50 of your income towards living expenses and necessities\\n7. Put your excess money toward a specific goal Now that you know how much money you have left over at the end of the month you can start putting that money toward your goals You can put it into savings pay off debt or add it to a college fund for your kids Make sure you know what you want to do with your extra money so you can make a plan12\\nX\\nResearch source\\n\\n\\n\\n\\n\\nFor example you could split your extra money into paying off debt and putting it in a savings account every month\\nYou could also give yourself a spending allowance or invest your excess money each month\\nTry to put 20 of your income toward savings or a specific goal\\n8. Adjust your habits if you are overspending If you calculated how much money you have left over at the end of the month and it isnt much you may need to adjust your spending habits Try spending less on optional items like clothing entertainment and going out to eat \\n\\nNot everyone is in a position to cut back on spending right now and thats okay Eating food paying your bills and buying clothes are all necessary to live life and you shouldnt feel bad about that\\nTry to be realistic on what you can cut back on13\\nX\\nExpert Source\\n\\nSamantha Gorelick CFPFinancial Planner\\nExpert Interview  6 May 2020\\n\\n  Its easy to say that you can cut your entertainment budget in half but it might not be fun to forgo going out with your friends every time they ask\\nAround 30 of your income should be spent on things you want but dont need\\n9. Set shortterm goals to achieve within 1 year Now that you know how much money you receive and spend each month you can set goals for your spending habits Shortterm goals are things that you can achieve within 12 months and they should be specific and actionable For example14\\nX\\nResearch source\\n\\n\\n\\n\\n\\nPut 5 of each paycheck in a savings account\\nPay off credit card balances in 12 months\\n10. Create longterm goals to achieve within a few years Longterm goals are your budgeting goals that might take a little longer than 1 year to achieve They should also be specific and actionable and you can think further ahead into the future For example15\\nX\\nResearch source\\n\\n\\n\\n\\n\\nSave 8000 in an emergency savings fund\\nPay off student loans in 3 to 5 years\\nSave 10000 for a downpayment on a home\\n11. Write down what you spend every time you make a purchase The best way to track how well youre doing is to jot a note down every time you spend money You can do this on a piece of paper a note on your phone or on a spreadsheet on the computerwhatevers easiest That way you can see where your money is going and what you may be able to cut back on in the future16\\nX\\nResearch source\\n\\n\\n\\n\\nBe really specific when you write down what you spent money on so you dont forget it For example you could write 2295 on a new watch for Moms birthday\\n12. Reduce your spending by purchasing less expensive items If you realize that youre overspending you may be able to make small changes to your habits that dont affect your life much at all For example try buying in bulk at the grocery store instead of going for namebrand items Or make your coffee at home instead of buying one from a coffee shop Small changes like this can add up over time so keep at it17\\nX\\nResearch source\\n\\n\\n\\n\\nTry packing your lunch instead of buying one exercising outside instead of at the gym subscribing to an online newspaper instead of buying one or getting your books from the library instead of buying them brand new\\n13. Review your budget every month Your income or expenses may change from month to month and its important to keep your budget updated Be sure to keep track of your total spending and savings and adjust your expenses if you need to18\\nX\\nResearch source\\n\\n\\n\\n\\n\\nAt the beginning of each month take a look at last months budget and see how you did This can help you make adjustments for the future\\nIf you got a pay raise or paid off a debt this can also affect your budget\\n14. Use a budgeting tool to make your budget easier19\\nX\\nExpert Source\\n\\nSamantha Gorelick CFPFinancial Planner\\nExpert Interview  6 May 2020\\n\\n  Spreadsheets are great but it can be tough to keep track of your info all on your own If you want to make your budget run a little smoother try updating your information onto a budgeting website or app That way youll already have a budgeting template and you can set reminders on the website to upload your spending habits so you dont forget20\\nX\\nResearch source\\n\\n\\n\\n\\n\\nQuicken Mint YNAB AceMoney and BudgetPlus all offer budgeting services\\n15. Treat yourself periodically but within reason Your money has to work for you not the other way around You dont want to feel like a slave to your budget or to money in general so its important to allow yourself a small treat every month that wont break your budget21\\nX\\nResearch source\\n\\n\\n\\n\\nTake a look at your budget and decide what you can afford to splurge on Some months you might be able to afford a new pair of shoes other months you might go for a latte or a new notebook\\n16. Pay off your debt every month if you can If you use credit cards or have student loan debt you should try to pay off at least the minimum amount every month to avoid high interest rates  If you cannot pay off the current balances prioritize paying them off within a reasonable time period so that you can get to zero balances22\\nX\\nResearch source\\n\\n\\n\\n\\nIf you can afford to put more money toward your debt each month you should prioritize that Paying the minimum payment each month can take a long time to pay off your debt and you can pay a ton of money in interest rates\\n17. Keep money in savings for emergencies You can never plan for emergencies and they can destroy your budget if they catch you off guard Try to set aside some money every month in case your car breaks down you need medical care or you lose your job That way youll have a cushion to help you out23\\nX\\nResearch source\\n\\n\\n\\n\\n\\nIts better to plan ahead for the unexpected now than let it catch you off guard\\nIf something unexpected does happen reach out to your credit card company and student loan company to see if they can forgive some late payments or hold off on collections for a few months\\nThe general rule of thumb is to save enough money to cover 6 months of your expenses For example if you spend 1500 every month try to save 9000 for emergencies\"\n",
            "  },\n",
            "  {\n",
            "    \"prompt\": \"What are the steps to How to Budget Your Money?\",\n",
            "    \"completion\": \"1. Create a budgeting spreadsheet2\\nX\\nExpert Source\\n\\nSamantha Gorelick CFPFinancial Planner\\nExpert Interview  6 May 2020\\n\\n  You can create a simple spreadsheet using Google Sheets or Excel Your goal is to chart all your expenses and income during the course of a year So make a spreadsheet that shows all your information clearly allowing you to quickly identify any areas where you can spend smarter3\\nX\\nResearch source\\n\\n\\n\\n\\nLabel the top row with the 12 months of the year\\n2. Find your monthly income after taxes and other payroll deductions Your net income or the income that is yours to spend is your monthly income after taxes FICA and other payroll deductions If you are on a salary this will be a fixed amount each month which you can find on your paystub If you work an hourly position your income may vary from month to month but you can find an average amount by looking at your last 3 or 4 paystubs4\\nX\\nResearch source\\n\\n\\n\\n\\nIf you are a freelance worker or selfemployed you may be receiving your entire income without taxes taken out Try to set aside about 20 of your income to pay your taxes at the end of the year\\n3. List all of your fixed expenses Fixed expenses are the things that you pay the same price for every single month This may include your rent mortgage some utilities student loan payments or a car payment5\\nX\\nExpert Source\\n\\nSamantha Gorelick CFPFinancial Planner\\nExpert Interview  6 May 2020\\n\\n  Add a label for each expense on the column at the very left of your spreadsheet then write down the monetary amount you spend in each box underneath its corresponding month For example6\\nX\\nResearch source\\n\\n\\n\\n\\n\\nRent 1000\\nElectric 100\\nCar payment 250\\nStudent loans 400\\nCredit card payment 100\\n4. Write down your variable expenses Variable expenses are the ones where the monetary amounts might change from month to month These are usually the areas that are easy to cut back on if youre trying to save money7\\nX\\nExpert Source\\n\\nSamantha Gorelick CFPFinancial Planner\\nExpert Interview  6 May 2020\\n\\n  Add these labels underneath your fixed expenses then add them for every month that you can For example the month of March might say8\\nX\\nResearch source\\n\\n\\n\\n\\n\\nGroceries 350\\nGas 120\\nEntertainment 300\\nPersonal items hair care makeup clothes etc 200\\nVacation fund 50\\nSavings 200\\n5. Compare your expenses to your income To make your monthly budget add up the total amount of money you spend every month from fixed and variable expenses Then subtract that amount from your monthly income Whatever you have left over is your disposable income or money that you have left at the end of the month If you dont have any money left or the number is negative youre probably spending more than you make each month9\\nX\\nResearch source\\n\\n\\n\\n\\nFor example 600 fixed expenses  550 variable expenses  1150 per month 2000 monthly income  1150 total expenses  850 disposable income\\n6. Pay all of your nondiscretionary expenses first Before you get into saving money or putting money towards a goal you have to make sure that you are paying all of your bills10\\nX\\nExpert Source\\n\\nSamantha Gorelick CFPFinancial Planner\\nExpert Interview  6 May 2020\\n\\n  Make sure youre allocating enough of your income every month toward bills that you have to pay to keep a roof over your head and food in your mouth11\\nX\\nResearch source\\n\\n\\n\\n\\n\\nTheres no point in saving money if you still have outstanding bills to pay\\nYou should try to allocate 50 of your income towards living expenses and necessities\\n7. Put your excess money toward a specific goal Now that you know how much money you have left over at the end of the month you can start putting that money toward your goals You can put it into savings pay off debt or add it to a college fund for your kids Make sure you know what you want to do with your extra money so you can make a plan12\\nX\\nResearch source\\n\\n\\n\\n\\n\\nFor example you could split your extra money into paying off debt and putting it in a savings account every month\\nYou could also give yourself a spending allowance or invest your excess money each month\\nTry to put 20 of your income toward savings or a specific goal\\n8. Adjust your habits if you are overspending If you calculated how much money you have left over at the end of the month and it isnt much you may need to adjust your spending habits Try spending less on optional items like clothing entertainment and going out to eat \\n\\nNot everyone is in a position to cut back on spending right now and thats okay Eating food paying your bills and buying clothes are all necessary to live life and you shouldnt feel bad about that\\nTry to be realistic on what you can cut back on13\\nX\\nExpert Source\\n\\nSamantha Gorelick CFPFinancial Planner\\nExpert Interview  6 May 2020\\n\\n  Its easy to say that you can cut your entertainment budget in half but it might not be fun to forgo going out with your friends every time they ask\\nAround 30 of your income should be spent on things you want but dont need\\n9. Set shortterm goals to achieve within 1 year Now that you know how much money you receive and spend each month you can set goals for your spending habits Shortterm goals are things that you can achieve within 12 months and they should be specific and actionable For example14\\nX\\nResearch source\\n\\n\\n\\n\\n\\nPut 5 of each paycheck in a savings account\\nPay off credit card balances in 12 months\\n10. Create longterm goals to achieve within a few years Longterm goals are your budgeting goals that might take a little longer than 1 year to achieve They should also be specific and actionable and you can think further ahead into the future For example15\\nX\\nResearch source\\n\\n\\n\\n\\n\\nSave 8000 in an emergency savings fund\\nPay off student loans in 3 to 5 years\\nSave 10000 for a downpayment on a home\\n11. Write down what you spend every time you make a purchase The best way to track how well youre doing is to jot a note down every time you spend money You can do this on a piece of paper a note on your phone or on a spreadsheet on the computerwhatevers easiest That way you can see where your money is going and what you may be able to cut back on in the future16\\nX\\nResearch source\\n\\n\\n\\n\\nBe really specific when you write down what you spent money on so you dont forget it For example you could write 2295 on a new watch for Moms birthday\\n12. Reduce your spending by purchasing less expensive items If you realize that youre overspending you may be able to make small changes to your habits that dont affect your life much at all For example try buying in bulk at the grocery store instead of going for namebrand items Or make your coffee at home instead of buying one from a coffee shop Small changes like this can add up over time so keep at it17\\nX\\nResearch source\\n\\n\\n\\n\\nTry packing your lunch instead of buying one exercising outside instead of at the gym subscribing to an online newspaper instead of buying one or getting your books from the library instead of buying them brand new\\n13. Review your budget every month Your income or expenses may change from month to month and its important to keep your budget updated Be sure to keep track of your total spending and savings and adjust your expenses if you need to18\\nX\\nResearch source\\n\\n\\n\\n\\n\\nAt the beginning of each month take a look at last months budget and see how you did This can help you make adjustments for the future\\nIf you got a pay raise or paid off a debt this can also affect your budget\\n14. Use a budgeting tool to make your budget easier19\\nX\\nExpert Source\\n\\nSamantha Gorelick CFPFinancial Planner\\nExpert Interview  6 May 2020\\n\\n  Spreadsheets are great but it can be tough to keep track of your info all on your own If you want to make your budget run a little smoother try updating your information onto a budgeting website or app That way youll already have a budgeting template and you can set reminders on the website to upload your spending habits so you dont forget20\\nX\\nResearch source\\n\\n\\n\\n\\n\\nQuicken Mint YNAB AceMoney and BudgetPlus all offer budgeting services\\n15. Treat yourself periodically but within reason Your money has to work for you not the other way around You dont want to feel like a slave to your budget or to money in general so its important to allow yourself a small treat every month that wont break your budget21\\nX\\nResearch source\\n\\n\\n\\n\\nTake a look at your budget and decide what you can afford to splurge on Some months you might be able to afford a new pair of shoes other months you might go for a latte or a new notebook\\n16. Pay off your debt every month if you can If you use credit cards or have student loan debt you should try to pay off at least the minimum amount every month to avoid high interest rates  If you cannot pay off the current balances prioritize paying them off within a reasonable time period so that you can get to zero balances22\\nX\\nResearch source\\n\\n\\n\\n\\nIf you can afford to put more money toward your debt each month you should prioritize that Paying the minimum payment each month can take a long time to pay off your debt and you can pay a ton of money in interest rates\\n17. Keep money in savings for emergencies You can never plan for emergencies and they can destroy your budget if they catch you off guard Try to set aside some money every month in case your car breaks down you need medical care or you lose your job That way youll have a cushion to help you out23\\nX\\nResearch source\\n\\n\\n\\n\\n\\nIts better to plan ahead for the unexpected now than let it catch you off guard\\nIf something unexpected does happen reach out to your credit card company and student loan company to see if they can forgive some late payments or hold off on collections for a few months\\nThe general rule of thumb is to save enough money to cover 6 months of your expenses For example if you spend 1500 every month try to save 9000 for emergencies\"\n",
            "  }\n",
            "]\n"
          ]
        }
      ]
    },
    {
      "cell_type": "markdown",
      "source": [
        "## Step 7: Train-Validation Split\n",
        "\n",
        "Here, we split our data into training and validation sets.\n",
        "\n",
        "**Explanation:**\n",
        "- We use scikit-learn's `train_test_split` function to randomly split our data.\n",
        "- 80% of the data goes into the training set, and 20% into the validation set."
      ],
      "metadata": {
        "id": "BHeqCDbiRYIa"
      }
    },
    {
      "cell_type": "code",
      "source": [
        "# Step 7: Train-Validation Split\n",
        "train_data, val_data = train_test_split(augmented_data, test_size=0.2, random_state=42)\n",
        "# Print statement after train-validation split\n",
        "print(f\"\\nStep 7: Train-Validation Split:\")\n",
        "print(f\"Training samples: {len(train_data)}\")\n",
        "print(f\"Validation samples: {len(val_data)}\")\n"
      ],
      "metadata": {
        "colab": {
          "base_uri": "https://localhost:8080/"
        },
        "id": "Ub289iPKL41S",
        "outputId": "78a78110-4a9e-462e-dfa3-a3e41047e8e7"
      },
      "execution_count": 77,
      "outputs": [
        {
          "output_type": "stream",
          "name": "stdout",
          "text": [
            "\n",
            "Step 7: Train-Validation Split:\n",
            "Training samples: 4\n",
            "Validation samples: 2\n"
          ]
        }
      ]
    },
    {
      "cell_type": "markdown",
      "source": [
        "## Step 8: Format Conversion\n",
        "\n",
        "Finally, we convert our data into the JSONL format, which is commonly used for LLM fine-tuning.\n",
        "\n",
        "**Explanation:**\n",
        "- We write each prompt-completion pair as a JSON object on a new line in the output file.\n",
        "- We create separate files for the training and validation data."
      ],
      "metadata": {
        "id": "S1YNiXTHRa84"
      }
    },
    {
      "cell_type": "code",
      "source": [
        "# Step 8: Format Conversion\n",
        "def convert_to_jsonl(data, filename):\n",
        "    with open(filename, 'w') as f:\n",
        "        for item in data:\n",
        "            json.dump(item, f)\n",
        "            f.write('\\n')\n"
      ],
      "metadata": {
        "id": "cwbxWHcKL7V-"
      },
      "execution_count": 78,
      "outputs": []
    },
    {
      "cell_type": "code",
      "source": [
        "convert_to_jsonl(train_data, 'train_data.jsonl')\n",
        "convert_to_jsonl(val_data, 'val_data.jsonl')\n"
      ],
      "metadata": {
        "id": "GIChYFzVL9oB"
      },
      "execution_count": 79,
      "outputs": []
    },
    {
      "cell_type": "markdown",
      "source": [
        "## Conclusion\n",
        "\n",
        "This notebook has walked through the entire process of preparing WikiHow data for fine-tuning an LLM. The resulting JSONL files can be used with various LLM fine-tuning frameworks. Remember that this is a simplified example, and in a real-world scenario, you would likely need to handle more edge cases, implement more robust error handling, and possibly include more sophisticated data cleaning and augmentation techniques."
      ],
      "metadata": {
        "id": "8mTR60swRe-h"
      }
    },
    {
      "cell_type": "code",
      "source": [
        "# Print statement after format conversion\n",
        "print(\"\\nStep 8: Format Conversion\")\n",
        "print(\"First line of train_data.jsonl:\")\n",
        "with open('train_data.jsonl', 'r') as f:\n",
        "    print(f.readline().strip())\n",
        "\n",
        "print(f\"\\nProcessed {len(articles)} articles.\")\n",
        "print(f\"Created {len(train_data)} training samples and {len(val_data)} validation samples.\")\n",
        "print(\"Data has been saved to 'train_data.jsonl' and 'val_data.jsonl'.\")\n",
        "print(\"Done!\")"
      ],
      "metadata": {
        "colab": {
          "base_uri": "https://localhost:8080/"
        },
        "id": "_4bW-Kb_MAEt",
        "outputId": "40054b4c-89e4-47a6-ef2d-5346917d2a45"
      },
      "execution_count": 80,
      "outputs": [
        {
          "output_type": "stream",
          "name": "stdout",
          "text": [
            "\n",
            "Step 8: Format Conversion\n",
            "First line of train_data.jsonl:\n",
            "{\"prompt\": \"What are the steps to How to Plant a Tree?\", \"completion\": \"1. Select a healthy tree that naturally thrives in your climate Trees live a long time so its important to pick a local species that wont struggle to survive If you arent sure which species grow locally spend some time researching trees that are native to your area1\\nX\\nResearch source\\n\\n\\n\\n\\n\\nYou can also to a local nursery owner for species suggestions\\nTree roots always grow best in their native soil2\\nX\\nResearch source\\n\\n\\n\\n You shouldnt need to amend or fertilize the soil as long as the species is native and climateappropriate3\\nX\\nResearch source\\n2. Plant most tree species in the fall or early spring Cool weather is the best time for planting since the trees are dormant during that time Planting a tree in late spring or summer when the roots are actively growing puts too much stress on the tree and it may not survive4\\nX\\nResearch source\\n\\n\\n\\n\\n\\nEarly fall is best for container trees and balled and burlapped BB trees5\\nX\\nResearch source\\n\\n\\n\\n\\n\\nSpring is best for bare root trees trees that have been stored without any soil around their roots6\\nX\\nResearch source\\n\\n\\n\\n\\n\\nAlways plant before the first freeze or after the last freeze\\n3. Pick an open flat area away from buildings powerlines and utilities Make sure theres plenty of room for the tree to grow to maturity In the United States you can call 811 before you dig Someone will come out to mark your underground utility lines for free or walk you through it over the phone so you can avoid planting too close to them7\\nX\\nResearch source\\n\\n\\n\\n\\nMost urban communities have zoning laws about trees and digging holes To avoid fines check local laws before you plant If you live outside the city limits you can plant without restrictions\\n4. Make sure your chosen location gets at least 6 hours of sunlight daily Light needs vary depending on the tree species so youll want to check your specs That said most trees require full sun to thrive8\\nX\\nResearch source\\n\\n\\n\\n At a bare minimum full sun amounts to 6 hours of uninterrupted sunlight per day\\n5. Water the soil on planting day before you dig the hole Give the planting location a good hose down to moisten the soil and make it easier to turn Moist soil is also more hospitable and minimizes root stress for a newly transplanted tree9\\nX\\nResearch source\\n6. Dig a hole 23 times the diameter of the root ball Youll be using the original soil to fill in the hole around the root ball so shovel the excavated soil right next to the hole For easy backfilling it can help to lay down a tarp and shovel the soil on top of it10\\nX\\nTrustworthy Source\\nUniversity of Missouri Extension\\nUniversity of Missouri program dedicated to researchbased practical public education\\nGo to source\\n\\n\\n\\n\\nA regular shovel will work fine since youve already moistened the soil\\nYou dont need to literally measure the root ball unless you want to Just make sure the width of the hole can easily accommodate the roots\\n7. Dig the hole to the same depth as the root ball Locate the first lateral roots which are the long offshoots near the top of the root ball For proper placement the lateral roots need to be 12\\u00a0in 2551\\u00a0cm under the soils surface after planting The start of the tree trunk should be about level with the ground11\\nX\\nResearch source\\n\\n\\n\\n\\nIf you plant too deep the roots will struggle to get oxygen and eventually smother Water may also pool around the base of the tree causing the bark to deteriorate which eventually kills the tree12\\nX\\nResearch source\\n8. Nestle the root ball into the prepared hole Any loose soil inside the hole needs to be moved to the side so the root ball is resting on solid ground After the root ball is in position make sure the root flare the spot where the tree trunk meets the root ball is just visible above the soil line13\\nX\\nResearch source\\n\\n\\n\\n\\nIf the roots are wrapped in burlap cut the burlap off once the tree is properly positioned in the hole14\\nX\\nResearch source\\n9. Fill in the planting hole with the original soil and tamp lightly Loosen and break up any dirt clods before backfilling the hole Then fill in the space around the root ball and press down gently15\\nX\\nResearch source\\n\\n\\n\\n\\n\\nAvoid tamping down the soil too hard since that compacts the soil and reduces available oxygen for the roots\\nIts important to backfill with the original soil Using soil amendments around the root ball can cause problems like root rot\\n10. Water deeply at the base of the tree until the soil is saturated Pour the water slowly so you dont disturb or compact the soil around the root ball Plenty of available moisture will help the soil settle around the roots so the tree can establish itself in its new environment\\n16\\nX\\nResearch source\\n11. Add a 34\\u00a0in 76102\\u00a0cm layer of organic wood mulch around the tree You dont have to mulch immediately after planting but try to do it fairly soon to reap the protective benefits Dont pile mulch up around the tree trunkleave a 24\\u00a0in 51102\\u00a0cm space between the trunk and the mulch17\\nX\\nResearch source\\n\\n\\n\\n\\n\\nIf youre planting in the fall mulch before the first freeze If youre planting in the spring mulch before summer\\n\\nOrganic wood mulch helps the soil retain moisture and regulate temperature It also prevents weeds from sprouting up and stealing the trees nutrients\\n12. Keep the soil consistently moist for the first 2 years Watering your tree properly helps the roots get established and is crucial to ensure the trees survival How often you water depends on your climate so monitor the soil and water as often as needed even in the winter18\\nX\\nResearch source\\n\\n\\n\\n\\n\\nIf you cant monitor the soil moisture closely consider installing a drip irrigation system The system discharges small quantities of water on a regular basis directly to the root zone to keep the tree hydrated\\nIf the ground freezes in winter you dont need to water during that time\\nGive enough water to the plant to stay healthy but not too much water that its always soggy\\n13. Water less frequently once the tree is established After about 2 years you can ease up on the watering The specific amount of water needed still depends on your climate but in general water an established tree deeply every 35 days during the growing season late spring through early fall In the dormant season late fall through early spring water once a month19\\nX\\nResearch source\\n14. Remove damaged or diseased branches every few months No pruning is needed at the time of planting but be sure to check on the tree every 23 months once its in the ground Use sharp pruning shears to remove any damaged or diseased areas Always leave the lower limbs intact if possible20\\nX\\nResearch source\\n\\n\\n\\n\\n\\nIts important to limit pruning for the first 2 years until the tree is established so you dont stunt the growth\\nOnce the tree is established prune the tree according to the the needs of the species Be sure to research thoroughly so you know when and how much to prune\\nPeriodically you can add an allpurpose fertilizer depending on the soil\"}\n",
            "\n",
            "Processed 3 articles.\n",
            "Created 4 training samples and 2 validation samples.\n",
            "Data has been saved to 'train_data.jsonl' and 'val_data.jsonl'.\n",
            "Done!\n"
          ]
        }
      ]
    },
    {
      "cell_type": "code",
      "source": [],
      "metadata": {
        "id": "dmPvesoaPdzn"
      },
      "execution_count": 80,
      "outputs": []
    }
  ]
}